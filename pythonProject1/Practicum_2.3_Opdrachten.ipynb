{
 "cells": [
  {
   "cell_type": "markdown",
   "metadata": {},
   "source": [
    "# Practicumopdrachten Week 2.3 (eerste kans)"
   ]
  },
  {
   "cell_type": "markdown",
   "metadata": {},
   "source": [
    "## Dependencies importeren"
   ]
  },
  {
   "cell_type": "markdown",
   "metadata": {},
   "source": [
    "Kopieer in het codeblok hieronder van het vorige practicum de import-code voor de dependencies die het vaakst worden gebruikt om data in te lezen. Geef er ook de gebruikelijke aliassen aan.<br>\n",
    "Zet eventuele warnings uit."
   ]
  },
  {
   "cell_type": "code",
   "execution_count": 1,
   "metadata": {
    "ExecuteTime": {
     "end_time": "2024-02-28T18:48:31.081243Z",
     "start_time": "2024-02-28T18:48:30.687072Z"
    }
   },
   "outputs": [],
   "source": [
    "import warnings\n",
    "warnings.simplefilter('ignore')\n",
    "import pandas as pd"
   ]
  },
  {
   "cell_type": "markdown",
   "metadata": {},
   "source": [
    "Zet het bestand go_sales.sqlite in hetzelfde mapje als dit notebook."
   ]
  },
  {
   "cell_type": "markdown",
   "metadata": {},
   "source": [
    "## Databasetabellen inlezen"
   ]
  },
  {
   "cell_type": "markdown",
   "metadata": {},
   "source": [
    "Kopieer in het codeblok hieronder van het vorige practicum de code om een connectie met het bestand go_sales.sqlite te maken."
   ]
  },
  {
   "cell_type": "code",
   "execution_count": 2,
   "metadata": {
    "ExecuteTime": {
     "end_time": "2024-02-28T18:48:48.311544Z",
     "start_time": "2024-02-28T18:48:48.308080Z"
    }
   },
   "outputs": [],
   "source": [
    "import sqlite3\n",
    "con = sqlite3.connect('Great_Outdoors_Data_SQLite/go_sales.sqlite')"
   ]
  },
  {
   "cell_type": "markdown",
   "metadata": {},
   "source": [
    "Lees van de ingelezen go_sales-database te volgende tabellen in met behulp van \"SELECT * FROM *tabel*\".\n",
    "- product\n",
    "- product_type\n",
    "- product_line\n",
    "- sales_staff\n",
    "- sales_branch\n",
    "- retailer_site\n",
    "- country\n",
    "- order_header\n",
    "- order_details\n",
    "- target\n",
    "- returned_item\n",
    "- return_reason"
   ]
  },
  {
   "cell_type": "code",
   "execution_count": 78,
   "metadata": {
    "ExecuteTime": {
     "end_time": "2024-02-28T21:58:18.089772Z",
     "start_time": "2024-02-28T21:58:17.959225Z"
    }
   },
   "outputs": [],
   "source": [
    "sql_query = \"SELECT name FROM sqlite_master WHERE type='table';\"\n",
    "tables = pd.read_sql_query(sql_query,con)\n",
    "product = pd.read_sql_query(\"SELECT * FROM product\",con)\n",
    "country = pd.read_sql_query(\"SELECT * FROM country\",con)\n",
    "retailer = pd.read_sql_query(\"SELECT * FROM retailer_site\",con)\n",
    "salesbranch = pd.read_sql_query(\"SELECT * FROM sales_branch\",con)\n",
    "returned = pd.read_sql_query(\"SELECT * FROM returned_item\",con)\n",
    "order = pd.read_sql_query(\"SELECT * FROM order_details\",con)\n",
    "staff = pd.read_sql_query(\"SELECT * FROM sales_staff\",con)"
   ]
  },
  {
   "cell_type": "markdown",
   "metadata": {},
   "source": [
    "Let op! Voor alle onderstaande opdrachten mag je <u>alleen Python</u> gebruiken, <u>geen SQL!</u>"
   ]
  },
  {
   "cell_type": "markdown",
   "metadata": {},
   "source": [
    "## Selecties op één tabel zonder functies"
   ]
  },
  {
   "cell_type": "markdown",
   "metadata": {},
   "source": [
    "Geef een overzicht met daarin de producten en hun productiekosten waarvan de productiekosten lager dan 100 dollar en hoger dan 50 dollar ligt. (2 kolommen, 23 rijen)"
   ]
  },
  {
   "cell_type": "code",
   "execution_count": 11,
   "metadata": {
    "ExecuteTime": {
     "end_time": "2024-02-28T19:00:22.305478Z",
     "start_time": "2024-02-28T19:00:22.298432Z"
    }
   },
   "outputs": [
    {
     "name": "stdout",
     "output_type": "stream",
     "text": [
      "                       PRODUCT_NAME  PRODUCTION_COST\n",
      "13                Blue Steel Putter            60.00\n",
      "14            Blue Steel Max Putter            81.80\n",
      "17              Course Pro Golf Bag            80.00\n",
      "24                  Hibernator Lite            60.00\n",
      "25                       Hibernator            86.00\n",
      "28  Hibernator Self - Inflating Mat            78.55\n",
      "31              Hibernator Camp Cot            65.33\n",
      "32     Canyon Mule Climber Backpack            62.50\n",
      "56          Granite Climbing Helmet            52.86\n",
      "58            Husky Harness Extreme            55.00\n",
      "69                   Granite Hammer            57.13\n",
      "71        TrailChef Deluxe Cook Set            85.11\n",
      "81                        Polar Ice            73.33\n",
      "83                     Polar Sports            80.00\n",
      "84                       Polar Wave            60.00\n",
      "85                    Polar Extreme            72.50\n",
      "88                     Edge Extreme            80.00\n",
      "91                        Seeker 35            79.19\n",
      "92                        Seeker 50            92.58\n",
      "93           TrailChef Double Flame            75.00\n",
      "94                   Seeker Extreme            94.12\n",
      "97                   Glacier Deluxe            56.25\n",
      "98                      Glacier GPS            78.55\n"
     ]
    }
   ],
   "source": [
    "product['PRODUCTION_COST'] = pd.to_numeric(product['PRODUCTION_COST'], errors='coerce')\n",
    "filtered_products = product.loc[(product['PRODUCTION_COST'] > 50) & (product['PRODUCTION_COST'] < 100), ['PRODUCT_NAME', 'PRODUCTION_COST']]\n",
    "\n",
    "\n",
    "print(filtered_products)"
   ]
  },
  {
   "cell_type": "markdown",
   "metadata": {},
   "source": [
    "Geef een overzicht met daarin de producten en hun marge waarvan de marge lager dan 20 % of hoger dan 60 % ligt. (2 kolommen, 7 rijen) "
   ]
  },
  {
   "cell_type": "code",
   "execution_count": 13,
   "metadata": {
    "ExecuteTime": {
     "end_time": "2024-02-28T19:07:37.078550Z",
     "start_time": "2024-02-28T19:07:37.072065Z"
    }
   },
   "outputs": [
    {
     "name": "stdout",
     "output_type": "stream",
     "text": [
      "                     PRODUCT_NAME  PRODUCTION_COST\n",
      "29                 Hibernator Pad            29.17\n",
      "32   Canyon Mule Climber Backpack            62.50\n",
      "100             BugShield Natural             2.00\n",
      "101               BugShield Spray             2.00\n",
      "102         BugShield Lotion Lite             2.00\n",
      "103              BugShield Lotion             2.50\n",
      "105             BugShield Extreme             2.50\n"
     ]
    }
   ],
   "source": [
    "product['MARGIN'] = pd.to_numeric(product['MARGIN'], errors='coerce')\n",
    "\n",
    "filtered_products = product.loc[(product['MARGIN'] < .2) | (product['MARGIN'] > 0.6), ['PRODUCT_NAME', 'PRODUCTION_COST']]\n",
    "\n",
    "\n",
    "print(filtered_products)"
   ]
  },
  {
   "cell_type": "markdown",
   "metadata": {},
   "source": [
    "Geef een overzicht met daarin de landen waar met francs wordt betaald. Sorteer de uitkomst op land.  (1 kolom, 3 rijen)"
   ]
  },
  {
   "cell_type": "code",
   "execution_count": 20,
   "metadata": {
    "ExecuteTime": {
     "end_time": "2024-02-28T19:10:55.813628Z",
     "start_time": "2024-02-28T19:10:55.809658Z"
    }
   },
   "outputs": [
    {
     "name": "stdout",
     "output_type": "stream",
     "text": [
      "0          France\n",
      "7         Belgium\n",
      "19    Switzerland\n",
      "Name: COUNTRY, dtype: object\n"
     ]
    }
   ],
   "source": [
    "filtered_country = country.loc[(country['CURRENCY_NAME'] == 'francs') , 'COUNTRY']\n",
    "\n",
    "\n",
    "print(filtered_country)"
   ]
  },
  {
   "cell_type": "markdown",
   "metadata": {},
   "source": [
    "Geef een overzicht met daarin de verschillende introductiedatums waarop producten met meer dan 50% marge worden geïntroduceerd (1 kolom, 7 rijen) "
   ]
  },
  {
   "cell_type": "code",
   "execution_count": 23,
   "metadata": {
    "ExecuteTime": {
     "end_time": "2024-02-28T19:47:24.026175Z",
     "start_time": "2024-02-28T19:47:24.017128Z"
    }
   },
   "outputs": [
    {
     "name": "stdout",
     "output_type": "stream",
     "text": [
      "    INTRODUCTION_DATE\n",
      "4          10-12-2019\n",
      "6          18-12-2019\n",
      "7          27-12-2019\n",
      "9           13-1-2020\n",
      "14         15-12-2019\n",
      "17         15-12-2019\n",
      "79         26-10-2016\n",
      "100         15-2-2011\n",
      "101         15-2-2011\n",
      "102         15-2-2011\n",
      "103         15-2-2011\n",
      "105         15-2-2011\n",
      "106         15-2-2011\n",
      "107         15-2-2011\n",
      "108         15-2-2011\n",
      "109         15-2-2011\n",
      "114         15-2-2011\n"
     ]
    }
   ],
   "source": [
    "product['MARGIN'] = pd.to_numeric(product['MARGIN'], errors='coerce')\n",
    "\n",
    "# Filter de producten met een marge groter dan 0.5\n",
    "product_with_high_margin = product[product['MARGIN'] > 0.5]\n",
    "\n",
    "# Selecteer de introductiedatums\n",
    "introductiedatums = product_with_high_margin['INTRODUCTION_DATE']\n",
    "\n",
    "# Creëer een DataFrame met de introductiedatums\n",
    "introductiedatums_df = pd.DataFrame(introductiedatums, columns=['INTRODUCTION_DATE'])\n",
    "\n",
    "# Print het resultaat\n",
    "print(introductiedatums_df)"
   ]
  },
  {
   "cell_type": "markdown",
   "metadata": {},
   "source": [
    "Geef een overzicht met daarin het eerste adres en de stad van verkoopafdelingen waarvan zowel het tweede adres als de regio bekend is (2 kolommen, 28 rijen)"
   ]
  },
  {
   "cell_type": "code",
   "execution_count": 39,
   "metadata": {
    "ExecuteTime": {
     "end_time": "2024-02-28T21:31:25.529447Z",
     "start_time": "2024-02-28T21:31:25.522829Z"
    }
   },
   "outputs": [
    {
     "name": "stdout",
     "output_type": "stream",
     "text": [
      "                            ADDRESS1              CITY\n",
      "10  Prol. Paseo de la Reforma No. 51  Distrito Federal\n",
      "11               202-2-3 Hyakunincho             Tokyo\n",
      "12                     543-225 Asahi        Osaka City\n",
      "13                  2315 Queen's Ave         Melbourne\n",
      "15             Avenida Paulista, 333         São Paulo\n",
      "21                    3 Albany Court        Birmingham\n",
      "27               Singelgravenplein 4         Amsterdam\n"
     ]
    }
   ],
   "source": [
    "filtered_df = salesbranch.loc[(salesbranch['ADDRESS2'].notna()) & (salesbranch['REGION'].notna()), ['ADDRESS1', 'CITY']]\n",
    "print(filtered_df)\n"
   ]
  },
  {
   "cell_type": "markdown",
   "metadata": {},
   "source": [
    "Geef een overzicht met daarin de landen waar met dollars (dollars of new dollar) wordt betaald. Sorteer de uitkomst op land. (1 kolom, 4 rijen) "
   ]
  },
  {
   "cell_type": "code",
   "execution_count": 36,
   "metadata": {
    "ExecuteTime": {
     "end_time": "2024-02-28T21:29:47.476211Z",
     "start_time": "2024-02-28T21:29:47.472074Z"
    }
   },
   "outputs": [
    {
     "name": "stdout",
     "output_type": "stream",
     "text": [
      "3            Taiwan\n",
      "6         Australia\n",
      "14    United States\n",
      "15           Canada\n",
      "Name: COUNTRY, dtype: object\n"
     ]
    }
   ],
   "source": [
    "filtered_country = country.loc[(country['CURRENCY_NAME'] == 'dollars') | (country['CURRENCY_NAME'] == 'new dollar'), 'COUNTRY']\n",
    "\n",
    "\n",
    "\n",
    "print(filtered_country)"
   ]
  },
  {
   "cell_type": "markdown",
   "metadata": {},
   "source": [
    "Geef een overzicht met daarin beide adressen en de stad van vestigingen van klanten waarvan de postcode begint met een ‘D’ (van duitsland). Filter op vestigingen die een tweede adres hebben. (3 kolommen, 2 rijen) "
   ]
  },
  {
   "cell_type": "code",
   "execution_count": 41,
   "metadata": {
    "ExecuteTime": {
     "end_time": "2024-02-28T21:32:49.716581Z",
     "start_time": "2024-02-28T21:32:49.709931Z"
    }
   },
   "outputs": [
    {
     "name": "stdout",
     "output_type": "stream",
     "text": [
      "             ADDRESS1       ADDRESS2       CITY\n",
      "205  Röntgenstraße 90  3. Tür rechts  Frankfurt\n",
      "351   Grubesallee 141       4. Stock    Hamburg\n"
     ]
    }
   ],
   "source": [
    "filtered_df = retailer.loc[(retailer['POSTAL_ZONE'].str.startswith('D')) & (retailer['ADDRESS2'].notna()), ['ADDRESS1', 'ADDRESS2', 'CITY']]\n",
    "print(filtered_df)"
   ]
  },
  {
   "cell_type": "markdown",
   "metadata": {},
   "source": [
    "## Selecties op één tabel met functies"
   ]
  },
  {
   "cell_type": "markdown",
   "metadata": {},
   "source": [
    "Geef het totaal aantal producten dat is teruggebracht (1 waarde) "
   ]
  },
  {
   "cell_type": "code",
   "execution_count": 52,
   "metadata": {
    "ExecuteTime": {
     "end_time": "2024-02-28T21:41:08.590524Z",
     "start_time": "2024-02-28T21:41:08.586432Z"
    }
   },
   "outputs": [
    {
     "name": "stdout",
     "output_type": "stream",
     "text": [
      "14306\n"
     ]
    }
   ],
   "source": [
    "returned['RETURN_QUANTITY'] = returned['RETURN_QUANTITY'].astype(int)\n",
    "\n",
    "total_returned_products = returned['RETURN_QUANTITY'].sum()\n",
    "print(total_returned_products)\n"
   ]
  },
  {
   "cell_type": "markdown",
   "metadata": {},
   "source": [
    "Geef het aantal regio’s waarin verkoopafdelingen gevestigd zijn. (1 waarde)"
   ]
  },
  {
   "cell_type": "code",
   "execution_count": 55,
   "metadata": {
    "ExecuteTime": {
     "end_time": "2024-02-28T21:42:43.362687Z",
     "start_time": "2024-02-28T21:42:43.358952Z"
    }
   },
   "outputs": [
    {
     "name": "stdout",
     "output_type": "stream",
     "text": [
      "15\n"
     ]
    }
   ],
   "source": [
    "total_branch_locations = salesbranch['REGION'].count()\n",
    "print(total_branch_locations)"
   ]
  },
  {
   "cell_type": "markdown",
   "metadata": {},
   "source": [
    "Maak 3 variabelen:\n",
    "- Een met de laagste\n",
    "- Een met de hoogste\n",
    "- Een met de gemiddelde (afgerond op 2 decimalen)\n",
    "\n",
    "marge van producten (3 kolommen, 1 rij) "
   ]
  },
  {
   "cell_type": "code",
   "execution_count": 59,
   "metadata": {
    "ExecuteTime": {
     "end_time": "2024-02-28T21:46:18.501097Z",
     "start_time": "2024-02-28T21:46:18.495554Z"
    }
   },
   "outputs": [
    {
     "name": "stdout",
     "output_type": "stream",
     "text": [
      "Laagste marge: 0.17\n",
      "Hoogste marge: 0.7\n",
      "Gemiddelde marge: 0.4\n"
     ]
    }
   ],
   "source": [
    "product['MARGIN'] = pd.to_numeric(product['MARGIN'], errors='coerce')\n",
    "\n",
    "laagste_marge = product['MARGIN'].min()\n",
    "hoogste_marge = product['MARGIN'].max()\n",
    "gemiddelde_marge = product['MARGIN'].mean().round(2)\n",
    "\n",
    "print(\"Laagste marge:\", laagste_marge)\n",
    "print(\"Hoogste marge:\", hoogste_marge)\n",
    "print(\"Gemiddelde marge:\", gemiddelde_marge)\n"
   ]
  },
  {
   "cell_type": "markdown",
   "metadata": {},
   "source": [
    "Geef het aantal vestigingen van klanten waarvan het 2e adres niet bekend is (1 waarde)"
   ]
  },
  {
   "cell_type": "code",
   "execution_count": 69,
   "metadata": {
    "ExecuteTime": {
     "end_time": "2024-02-28T21:51:04.390635Z",
     "start_time": "2024-02-28T21:51:04.386528Z"
    }
   },
   "outputs": [
    {
     "name": "stdout",
     "output_type": "stream",
     "text": [
      "0\n"
     ]
    }
   ],
   "source": [
    "aantal_onbekend_adres2 = retailer[retailer['ADDRESS2'].isnull() | retailer['ADDRESS2'] == ''].count().sum()\n",
    "\n",
    "print(aantal_onbekend_adres2)"
   ]
  },
  {
   "cell_type": "code",
   "outputs": [],
   "source": [],
   "metadata": {
    "collapsed": false
   }
  },
  {
   "cell_type": "markdown",
   "metadata": {},
   "source": [
    "Geef de gemiddelde kostprijs van de verkochte producten waarop korting (unit_sale_price < unit_price) is verleend (1 waarde) "
   ]
  },
  {
   "cell_type": "code",
   "execution_count": 77,
   "metadata": {
    "ExecuteTime": {
     "end_time": "2024-02-28T21:57:20.087101Z",
     "start_time": "2024-02-28T21:57:20.066769Z"
    }
   },
   "outputs": [
    {
     "name": "stdout",
     "output_type": "stream",
     "text": [
      "202.23407425232037\n"
     ]
    }
   ],
   "source": [
    "order['UNIT_SALE_PRICE'] = order['UNIT_SALE_PRICE'].astype(float)\n",
    "order['UNIT_PRICE'] = order['UNIT_PRICE'].astype(float)\n",
    "\n",
    "discounted_products = order[order['UNIT_SALE_PRICE'] < order['UNIT_PRICE']]\n",
    "average_discounted_price = discounted_products['UNIT_PRICE'].mean()\n",
    "\n",
    "print(average_discounted_price)"
   ]
  },
  {
   "cell_type": "markdown",
   "metadata": {},
   "source": [
    "Geef een overzicht met daarin het aantal medewerkers per medewerkersfunctie (2 kolommen, 7 rijen) "
   ]
  },
  {
   "cell_type": "code",
   "execution_count": 82,
   "metadata": {
    "ExecuteTime": {
     "end_time": "2024-02-28T21:59:59.578853Z",
     "start_time": "2024-02-28T21:59:59.573271Z"
    }
   },
   "outputs": [
    {
     "name": "stdout",
     "output_type": "stream",
     "text": [
      "                    POSITION_EN  Aantal\n",
      "0                Branch Manager      19\n",
      "1              District Manager       4\n",
      "2               General Manager       1\n",
      "3  Level 1 Sales Representative      13\n",
      "4  Level 2 Sales Representative      39\n",
      "5  Level 3 Sales Representative      24\n",
      "6              Regional Manager       2\n"
     ]
    }
   ],
   "source": [
    "employee_counts = staff.groupby('POSITION_EN').size().reset_index(name='Aantal')\n",
    "\n",
    "print(employee_counts)"
   ]
  },
  {
   "cell_type": "markdown",
   "metadata": {},
   "source": [
    "Geef een overzicht met daarin per telefoonnummer het aantal medewerkers dat op dat telefoonnummer bereikbaar is. Toon alleen de telefoonnummer waarop meer dan 4 medewerkers bereikbaar zijn. (2 kolommen, 10 rijen) "
   ]
  },
  {
   "cell_type": "code",
   "execution_count": 90,
   "metadata": {
    "ExecuteTime": {
     "end_time": "2024-02-28T22:01:44.111208Z",
     "start_time": "2024-02-28T22:01:44.103693Z"
    }
   },
   "outputs": [
    {
     "name": "stdout",
     "output_type": "stream",
     "text": [
      "             WORK_PHONE  count\n",
      "4     +(44) 121 3505267      5\n",
      "10  +(61) 03 2982  4242      5\n",
      "11  +31 (0)20 692 93 94      5\n",
      "13    +33 1 68 94 52 20      5\n",
      "18     1 (206) 292-0012      5\n",
      "19     1 (305) 557-4810      6\n",
      "20     1 (310) 281-5722      5\n",
      "21     1 (403) 232-5986      5\n",
      "22     1 (416) 493-5595      5\n",
      "23     1 (617) 268-6754      6\n"
     ]
    }
   ],
   "source": [
    "employee_counts_per_phone = staff.groupby('WORK_PHONE').size().reset_index(name='count')\n",
    "\n",
    "filtered_employee_counts = employee_counts_per_phone[employee_counts_per_phone['count'] > 4]\n",
    "\n",
    "limited_employee_counts = filtered_employee_counts.head(10)\n",
    "\n",
    "print(limited_employee_counts)"
   ]
  },
  {
   "cell_type": "markdown",
   "metadata": {},
   "source": [
    "## Selecties op meerdere tabellen zonder functies"
   ]
  },
  {
   "cell_type": "markdown",
   "metadata": {},
   "source": [
    "Geef een overzicht met daarin het eerste adres en de stad van vestigingen van klanten uit ‘Netherlands’ (2 kolommen, 20 rijen) "
   ]
  },
  {
   "cell_type": "code",
   "execution_count": null,
   "metadata": {},
   "outputs": [],
   "source": []
  },
  {
   "cell_type": "markdown",
   "metadata": {},
   "source": [
    "Geef een overzicht met daarin de productnamen die tot het producttype ‘Eyewear’ behoren. (1 kolom, 5 rijen) "
   ]
  },
  {
   "cell_type": "code",
   "execution_count": null,
   "metadata": {},
   "outputs": [],
   "source": []
  },
  {
   "cell_type": "markdown",
   "metadata": {},
   "source": [
    "Geef een overzicht met daarin alle unieke eerste adressen van klantvestigingen en de voornaam en achternaam van de verkopers die ‘Branch Manager’ zijn en aan deze vestigingen hebben verkocht (3 kolommen, 1 rij) "
   ]
  },
  {
   "cell_type": "code",
   "execution_count": null,
   "metadata": {},
   "outputs": [],
   "source": []
  },
  {
   "cell_type": "markdown",
   "metadata": {},
   "source": [
    "Geef een overzicht met daarin van de verkopers hun functie en indien zij iets hebben verkocht de datum waarop de verkoop heeft plaatsgevonden. Laat alleen de verschillende namen van de posities zien van de verkopers die het woord ‘Manager’ in hun positienaam hebben staan. (2 kolommen, 9 rijen) "
   ]
  },
  {
   "cell_type": "code",
   "execution_count": null,
   "metadata": {},
   "outputs": [],
   "source": []
  },
  {
   "cell_type": "markdown",
   "metadata": {},
   "source": [
    "Geef een overzicht met daarin de verschillende namen van producten en bijbehorende namen van producttypen van de producten waarvoor ooit meer dan 750 stuks tegelijk verkocht zijn. (2 kolommen, 9 rijen) "
   ]
  },
  {
   "cell_type": "code",
   "execution_count": null,
   "metadata": {},
   "outputs": [],
   "source": []
  },
  {
   "cell_type": "markdown",
   "metadata": {},
   "source": [
    "Geef een overzicht met daarin de productnamen waarvan ooit meer dan 40% korting is verleend. De formule voor korting is: (unit_price - unit_sale_price) / unit_price (1 kolom, 8 rijen) "
   ]
  },
  {
   "cell_type": "code",
   "execution_count": null,
   "metadata": {},
   "outputs": [],
   "source": []
  },
  {
   "cell_type": "markdown",
   "metadata": {},
   "source": [
    "Geef een overzicht met daarin de retourreden van producten waarvan ooit meer dan 90% van de aangeschafte hoeveelheid is teruggebracht (return_quantity/quantity). (1 kolom, 3 rijen) "
   ]
  },
  {
   "cell_type": "code",
   "execution_count": null,
   "metadata": {},
   "outputs": [],
   "source": []
  },
  {
   "cell_type": "markdown",
   "metadata": {},
   "source": [
    "## Selecties op meerdere tabellen met functies"
   ]
  },
  {
   "cell_type": "markdown",
   "metadata": {},
   "source": [
    "Geef een overzicht met daarin per producttype het aantal producten die tot dat producttype behoren. (2 kolommen, 21 rijen) "
   ]
  },
  {
   "cell_type": "code",
   "execution_count": null,
   "metadata": {},
   "outputs": [],
   "source": []
  },
  {
   "cell_type": "markdown",
   "metadata": {},
   "source": [
    "Geef een overzicht met daarin per land het aantal vestigingen van klanten die zich in dat land bevinden. (2 kolommen, 21 rijen) "
   ]
  },
  {
   "cell_type": "code",
   "execution_count": null,
   "metadata": {},
   "outputs": [],
   "source": []
  },
  {
   "cell_type": "markdown",
   "metadata": {},
   "source": [
    "Geef een overzicht met daarin van de producten behorend tot het producttype ‘Cooking Gear’ per productnaam de totaal verkochte hoeveelheid en de gemiddelde verkoopprijs. Sorteer de uitkomst op totaal verkochte hoeveelheid. (4 kolommen, 10 rijen) "
   ]
  },
  {
   "cell_type": "code",
   "execution_count": null,
   "metadata": {},
   "outputs": [],
   "source": []
  },
  {
   "cell_type": "markdown",
   "metadata": {},
   "source": [
    "Geef een overzicht met daarin van de verkopers behorend tot de verkoopafdeling uit ‘Amsterdam’ de voornaam en achternaam van de verkoper en zijn laagste en hoogste verkooptarget van 2006. (4 kolommen, 4 rijen) "
   ]
  },
  {
   "cell_type": "code",
   "execution_count": null,
   "metadata": {},
   "outputs": [],
   "source": []
  },
  {
   "cell_type": "markdown",
   "metadata": {},
   "source": [
    "Geef een overzicht met daarin per land de naam van het land, de naam van de stad waar de verkoopafdeling is gevestigd (noem de kolomnaam in het overzicht ‘verkoper’) en het aantal steden waar zich klanten bevinden in dat land (noem de kolomnaam in het overzicht ‘klanten’) (3 kolommen, 29 rijen) "
   ]
  },
  {
   "cell_type": "code",
   "execution_count": null,
   "metadata": {},
   "outputs": [],
   "source": []
  },
  {
   "cell_type": "markdown",
   "metadata": {},
   "source": [
    "## Pythonvertalingen van SUBSELECT en UNION met o.a. for-loops"
   ]
  },
  {
   "cell_type": "markdown",
   "metadata": {},
   "source": [
    "Geef een overzicht met daarin de voornaam en de achternaam van de medewerkers die nog nooit wat hebben verkocht (2 kolommen, 25 rijen) "
   ]
  },
  {
   "cell_type": "code",
   "execution_count": null,
   "metadata": {},
   "outputs": [],
   "source": []
  },
  {
   "cell_type": "markdown",
   "metadata": {},
   "source": [
    "Geef een overzicht met daarin het aantal producten waarvan de marge lager is dan de gemiddelde marge van alle producten samen. Geef in het overzicht tevens aan wat de gemiddelde marge is van dit aantal producten waarvan de marge lager dan de gemiddelde marge van alle producten samen is. (1 kolom, 2 rijen) "
   ]
  },
  {
   "cell_type": "code",
   "execution_count": null,
   "metadata": {},
   "outputs": [],
   "source": []
  },
  {
   "cell_type": "markdown",
   "metadata": {},
   "source": [
    "Geef een overzicht met daarin de namen van de producten die voor meer dan 500 (verkoopprijs) zijn verkocht maar nooit zijn teruggebracht. (1 kolom, 13 rijen) "
   ]
  },
  {
   "cell_type": "code",
   "execution_count": null,
   "metadata": {},
   "outputs": [],
   "source": []
  },
  {
   "cell_type": "markdown",
   "metadata": {},
   "source": [
    "Geef een overzicht met daarin per (achternaam van) medewerker of hij/zij manager is of niet, door deze informatie toe te voegen als extra 'Ja/Nee'-kolom.<br>\n",
    "Hint: gebruik een for-loop waarin je o.a. bepaalt of het woord 'Manager' in de functie (position_en) staat. (2 kolommen, 102 rijen)."
   ]
  },
  {
   "cell_type": "code",
   "execution_count": null,
   "metadata": {},
   "outputs": [],
   "source": []
  },
  {
   "cell_type": "markdown",
   "metadata": {},
   "source": [
    "Met de onderstaande code laat je Python het huidige jaar uitrekenen."
   ]
  },
  {
   "cell_type": "code",
   "execution_count": 1,
   "metadata": {},
   "outputs": [
    {
     "data": {
      "text/plain": [
       "2024"
      ]
     },
     "execution_count": 1,
     "metadata": {},
     "output_type": "execute_result"
    }
   ],
   "source": [
    "from datetime import date\n",
    "date.today().year"
   ]
  },
  {
   "cell_type": "markdown",
   "metadata": {},
   "source": [
    "Met de onderstaande code selecteer je op een bepaald jaartal uit een datum."
   ]
  },
  {
   "cell_type": "code",
   "execution_count": 2,
   "metadata": {},
   "outputs": [
    {
     "data": {
      "text/plain": [
       "2013"
      ]
     },
     "execution_count": 2,
     "metadata": {},
     "output_type": "execute_result"
    }
   ],
   "source": [
    "from datetime import datetime\n",
    "\n",
    "date_str = '16-8-2013'\n",
    "date_format = '%d-%m-%Y'\n",
    "date_obj = datetime.strptime(date_str, date_format)\n",
    "\n",
    "date_obj.year"
   ]
  },
  {
   "cell_type": "markdown",
   "metadata": {},
   "source": [
    "Geef met behulp van bovenstaande hulpcode een overzicht met daarin op basis van het aantal jaar dat iemand in dienst is of een medewerker ‘kort in dienst’ (minder dan 25 jaar in dienst) of een ‘lang in dienst’ (groter gelijk dan 12 jaar in dienst) is. Geef daarbij per medewerker in een aparte kolom zowel ‘kort in dienst’ als ‘lang in dienst’ aan. Gebruik (wederom) een for-loop.<br>\n",
    "(2 kolommen, 102 rijen) "
   ]
  },
  {
   "cell_type": "code",
   "execution_count": null,
   "metadata": {},
   "outputs": [],
   "source": []
  }
 ],
 "metadata": {
  "kernelspec": {
   "display_name": "python-in-deds-P4iSP_yI-py3.11",
   "language": "python",
   "name": "python3"
  },
  "language_info": {
   "codemirror_mode": {
    "name": "ipython",
    "version": 3
   },
   "file_extension": ".py",
   "mimetype": "text/x-python",
   "name": "python",
   "nbconvert_exporter": "python",
   "pygments_lexer": "ipython3",
   "version": "3.11.4"
  }
 },
 "nbformat": 4,
 "nbformat_minor": 2
}
