{
 "cells": [
  {
   "cell_type": "markdown",
   "metadata": {},
   "source": [
    "# Practicumopdrachten Week 2.2 (eerste kans)"
   ]
  },
  {
   "cell_type": "markdown",
   "metadata": {},
   "source": [
    "## Dependencies importeren"
   ]
  },
  {
   "cell_type": "markdown",
   "metadata": {},
   "source": [
    "Importeer in het codeblok hieronder de packages die worden gebruikt om data in te lezen. Geef er ook de gebruikelijke aliassen aan.<br>\n",
    "N.B.: de 2 reeds geschreven coderegels zorgen ervoor dat eventuele warnings, die code-outputs lelijker maken, uitgezet worden."
   ]
  },
  {
   "cell_type": "code",
   "execution_count": 1,
   "metadata": {
    "ExecuteTime": {
     "end_time": "2024-02-28T17:45:31.260208Z",
     "start_time": "2024-02-28T17:45:30.844409Z"
    }
   },
   "outputs": [],
   "source": [
    "\n",
    "import warnings\n",
    "\n",
    "warnings.simplefilter('ignore')\n",
    "import pandas as pd"
   ]
  },
  {
   "cell_type": "markdown",
   "metadata": {},
   "source": [
    "Zet het bestand go_sales.sqlite in hetzelfde mapje als dit notebook."
   ]
  },
  {
   "cell_type": "markdown",
   "metadata": {},
   "source": [
    "## Databasetabel inlezen"
   ]
  },
  {
   "cell_type": "markdown",
   "metadata": {},
   "source": [
    "Creëer een databaseconnectie met het bestand go_sales.sqlite."
   ]
  },
  {
   "cell_type": "code",
   "execution_count": 5,
   "metadata": {
    "ExecuteTime": {
     "end_time": "2024-02-28T17:51:11.184832Z",
     "start_time": "2024-02-28T17:51:11.181394Z"
    }
   },
   "outputs": [],
   "source": [
    "import sqlite3\n",
    "con = sqlite3.connect('Great_Outdoors_Data_SQLite/go_sales.sqlite')"
   ]
  },
  {
   "cell_type": "markdown",
   "metadata": {},
   "source": [
    "Gebruik de onderstaande sql_query om te achterhalen welke databasetabellen in go_sales zitten."
   ]
  },
  {
   "cell_type": "code",
   "execution_count": 8,
   "metadata": {
    "ExecuteTime": {
     "end_time": "2024-02-28T17:52:07.999232Z",
     "start_time": "2024-02-28T17:52:07.993678Z"
    }
   },
   "outputs": [],
   "source": [
    "sql_query = \"SELECT name FROM sqlite_master WHERE type='table';\"\n",
    "tables = pd.read_sql_query(sql_query,con)"
   ]
  },
  {
   "cell_type": "markdown",
   "metadata": {},
   "source": [
    "Gebruik de gecreëerde databaseconnectie om de resultaten van de volgende query in een DataFrame te zetten:<br>\n",
    "*SELECT * FROM sales_staff* "
   ]
  },
  {
   "cell_type": "code",
   "execution_count": 9,
   "metadata": {
    "ExecuteTime": {
     "end_time": "2024-02-28T17:53:37.699357Z",
     "start_time": "2024-02-28T17:53:37.694787Z"
    }
   },
   "outputs": [],
   "source": [
    "staff = pd.read_sql_query(\"SELECT * FROM sales_staff\",con)"
   ]
  },
  {
   "cell_type": "markdown",
   "metadata": {},
   "source": [
    "## DataFrames uitsplitsen en opbouwen met Series"
   ]
  },
  {
   "cell_type": "markdown",
   "metadata": {},
   "source": [
    "De volgende 5 kolommen hebben betrekking op de contactdetails van elke medewerker in dit DataFrame:\n",
    "- SALES_STAFF_CODE\n",
    "- WORK_PHONE\n",
    "- EXTENSION\n",
    "- FAX\n",
    "- EMAIL\n",
    "\n",
    "Maak van elk van deze 5 kolommen een serie."
   ]
  },
  {
   "cell_type": "code",
   "execution_count": 12,
   "metadata": {
    "ExecuteTime": {
     "end_time": "2024-02-28T17:55:53.194103Z",
     "start_time": "2024-02-28T17:55:53.186827Z"
    }
   },
   "outputs": [
    {
     "data": {
      "text/plain": "(0    100\n 1    101\n 2    102\n 3    103\n 4    104\n Name: SALES_STAFF_CODE, dtype: object,\n 0    +358(0)17 - 433 127\n 1          82-2-778-6587\n 2          82-2-778-6587\n 3        886-2-2975-1988\n 4        886-2-2975-1988\n Name: WORK_PHONE, dtype: object,\n 0     825\n 1    1228\n 2    2641\n 3    1541\n 4    2311\n Name: EXTENSION, dtype: object,\n 0    +358(0)17 - 433 129\n 1          82-2-778-6586\n 2          82-2-778-6586\n 3        886-2-2989-4978\n 4        886-2-2989-4978\n Name: FAX, dtype: object,\n 0    TSavolainen@grtd123.com\n 1           CKim@grtd123.com\n 2          JChoi@grtd123.com\n 3          KKwao@grtd123.com\n 4           CFon@grtd123.com\n Name: EMAIL, dtype: object)"
     },
     "execution_count": 12,
     "metadata": {},
     "output_type": "execute_result"
    }
   ],
   "source": [
    "sales_staff_code = staff['SALES_STAFF_CODE']\n",
    "work_phone = staff['WORK_PHONE']\n",
    "extension = staff['EXTENSION']\n",
    "fax = staff['FAX']\n",
    "email = staff['EMAIL']\n",
    "\n",
    "sales_staff_code.head(),work_phone.head(),extension.head(),fax.head(),email.head()"
   ]
  },
  {
   "cell_type": "markdown",
   "metadata": {},
   "source": [
    "Zet allevijf gecreëerde series als kolommen naast elkaar in een DataFrame (*contact_details*). Gebruik pd.concat(...)<br>\n",
    "Hulpvraag: welke waarde geef je aan de axis-parameter?"
   ]
  },
  {
   "cell_type": "code",
   "execution_count": 13,
   "metadata": {
    "ExecuteTime": {
     "end_time": "2024-02-28T17:57:25.071600Z",
     "start_time": "2024-02-28T17:57:25.061839Z"
    }
   },
   "outputs": [
    {
     "data": {
      "text/plain": "  SALES_STAFF_CODE           WORK_PHONE EXTENSION                  FAX  \\\n0              100  +358(0)17 - 433 127       825  +358(0)17 - 433 129   \n1              101        82-2-778-6587      1228        82-2-778-6586   \n2              102        82-2-778-6587      2641        82-2-778-6586   \n3              103      886-2-2975-1988      1541      886-2-2989-4978   \n4              104      886-2-2975-1988      2311      886-2-2989-4978   \n\n                     EMAIL  \n0  TSavolainen@grtd123.com  \n1         CKim@grtd123.com  \n2        JChoi@grtd123.com  \n3        KKwao@grtd123.com  \n4         CFon@grtd123.com  ",
      "text/html": "<div>\n<style scoped>\n    .dataframe tbody tr th:only-of-type {\n        vertical-align: middle;\n    }\n\n    .dataframe tbody tr th {\n        vertical-align: top;\n    }\n\n    .dataframe thead th {\n        text-align: right;\n    }\n</style>\n<table border=\"1\" class=\"dataframe\">\n  <thead>\n    <tr style=\"text-align: right;\">\n      <th></th>\n      <th>SALES_STAFF_CODE</th>\n      <th>WORK_PHONE</th>\n      <th>EXTENSION</th>\n      <th>FAX</th>\n      <th>EMAIL</th>\n    </tr>\n  </thead>\n  <tbody>\n    <tr>\n      <th>0</th>\n      <td>100</td>\n      <td>+358(0)17 - 433 127</td>\n      <td>825</td>\n      <td>+358(0)17 - 433 129</td>\n      <td>TSavolainen@grtd123.com</td>\n    </tr>\n    <tr>\n      <th>1</th>\n      <td>101</td>\n      <td>82-2-778-6587</td>\n      <td>1228</td>\n      <td>82-2-778-6586</td>\n      <td>CKim@grtd123.com</td>\n    </tr>\n    <tr>\n      <th>2</th>\n      <td>102</td>\n      <td>82-2-778-6587</td>\n      <td>2641</td>\n      <td>82-2-778-6586</td>\n      <td>JChoi@grtd123.com</td>\n    </tr>\n    <tr>\n      <th>3</th>\n      <td>103</td>\n      <td>886-2-2975-1988</td>\n      <td>1541</td>\n      <td>886-2-2989-4978</td>\n      <td>KKwao@grtd123.com</td>\n    </tr>\n    <tr>\n      <th>4</th>\n      <td>104</td>\n      <td>886-2-2975-1988</td>\n      <td>2311</td>\n      <td>886-2-2989-4978</td>\n      <td>CFon@grtd123.com</td>\n    </tr>\n  </tbody>\n</table>\n</div>"
     },
     "execution_count": 13,
     "metadata": {},
     "output_type": "execute_result"
    }
   ],
   "source": [
    "contact_details = pd.concat([sales_staff_code,work_phone,extension,fax,email], axis=1)\n",
    "contact_details.head()"
   ]
  },
  {
   "cell_type": "markdown",
   "metadata": {},
   "source": [
    "## Series en DataFrames maken vanuit lists en dictionaries"
   ]
  },
  {
   "cell_type": "markdown",
   "metadata": {},
   "source": [
    "Met .head(*getal*) kan je de bovenste *getal* rijen van een tabel selecteren.<br>\n",
    "Selecteer op deze manier de bovenste 5 rijen van *contact_details*.<br>\n",
    "Sla dit resultaat op in een nieuw DataFrame."
   ]
  },
  {
   "cell_type": "code",
   "execution_count": 15,
   "metadata": {
    "ExecuteTime": {
     "end_time": "2024-02-28T18:03:27.733175Z",
     "start_time": "2024-02-28T18:03:27.729660Z"
    }
   },
   "outputs": [],
   "source": [
    "top_5_rows = contact_details.head(5)"
   ]
  },
  {
   "cell_type": "markdown",
   "metadata": {},
   "source": [
    "Aan deze 10 rijen met contactdetails willen we 3 kolommen toevoegen: 'FIRST_LANGUAGE', 'SECOND_LANGUAGE' & 'THIRD_LANGUAGE'.<br>\n",
    "Iedereens 'First Language' is Engels, afgekort 'EN'. Maak een lijst waarin 5x 'EN' staat.<br>\n",
    "Converteer deze lijst vervolgens naar een serie en voeg deze horizontaal samen met het resultaat van de vorige opdracht.<br>\n",
    "Vergeet niet een passende naam te geven aan de nieuw ontstane kolom."
   ]
  },
  {
   "cell_type": "code",
   "execution_count": 22,
   "metadata": {
    "ExecuteTime": {
     "end_time": "2024-02-28T18:09:48.873623Z",
     "start_time": "2024-02-28T18:09:48.865295Z"
    }
   },
   "outputs": [
    {
     "name": "stdout",
     "output_type": "stream",
     "text": [
      "  SALES_STAFF_CODE           WORK_PHONE EXTENSION                  FAX  \\\n",
      "0              100  +358(0)17 - 433 127       825  +358(0)17 - 433 129   \n",
      "1              101        82-2-778-6587      1228        82-2-778-6586   \n",
      "2              102        82-2-778-6587      2641        82-2-778-6586   \n",
      "3              103      886-2-2975-1988      1541      886-2-2989-4978   \n",
      "4              104      886-2-2975-1988      2311      886-2-2989-4978   \n",
      "\n",
      "                     EMAIL FIRST_LANGUAGE FIRST_LANGUAGE FIRST_LANGUAGE  \\\n",
      "0  TSavolainen@grtd123.com             EN             EN             EN   \n",
      "1         CKim@grtd123.com             EN             EN             EN   \n",
      "2        JChoi@grtd123.com             EN             EN             EN   \n",
      "3        KKwao@grtd123.com             EN             EN             EN   \n",
      "4         CFon@grtd123.com             EN             EN             EN   \n",
      "\n",
      "  FIRST_LANGUAGE FIRST_LANGUAGE  \n",
      "0             EN             EN  \n",
      "1             EN             EN  \n",
      "2             EN             EN  \n",
      "3             EN             EN  \n",
      "4             EN             EN  \n"
     ]
    }
   ],
   "source": [
    "first_language_list = ['EN'] * 5\n",
    "first_language_series = pd.Series(first_language_list, name='FIRST_LANGUAGE')\n",
    "top_5_rows = contact_details.head(5)\n",
    "top_5_rows = pd.concat([top_5_rows, first_language_series], axis=1)\n",
    "print(top_5_rows)"
   ]
  },
  {
   "cell_type": "markdown",
   "metadata": {},
   "source": [
    "Maak nu de tweede kolom ('SECOND_LANGUAGE'). Maak daarvoor een dictionary, met daarin...\n",
    "- Als keys: alle indexen uit het resultaat van het vorige codeblok.\n",
    "- Als values: bij de eerste 3 elementen 'FR' (Frankrijk), bij de laatste 2 'DE' (Duitsland).\n",
    "\n",
    "Maak vervolgens ook hier weer een serie van en voeg ook deze weer horizontaal samen met het rsultaat van de vorige opdracht.<br>\n",
    "Vergeet niet een passende naam te geven aan de nieuw ontstane kolom."
   ]
  },
  {
   "cell_type": "code",
   "execution_count": 23,
   "metadata": {
    "ExecuteTime": {
     "end_time": "2024-02-28T18:12:44.567862Z",
     "start_time": "2024-02-28T18:12:44.565805Z"
    }
   },
   "outputs": [],
   "source": []
  },
  {
   "cell_type": "markdown",
   "metadata": {},
   "source": [
    "Maak ten slotte de derde kolom ('THIRD_LANGUAGE') door een dictionary te maken met daarin...\n",
    "- Als key: de naam van de nieuwe kolom. Zie je het verschil qua keys met de vorige opdracht?\n",
    "- Als waarde: een lijst met daarin 'NL', 'NL', 'JPN', 'JPN', 'KOR'.\n",
    "\n",
    "Converteer deze dictionary nu naar een DataFrame en voeg deze horizontaal samen met het resultaat van de vorige opdracht.<br>\n",
    "Waarom hoef je hierna de nieuw ontstane kolom geen passende naam meer te geven?"
   ]
  },
  {
   "cell_type": "code",
   "execution_count": null,
   "metadata": {},
   "outputs": [],
   "source": []
  },
  {
   "cell_type": "markdown",
   "metadata": {},
   "source": [
    "## Data toevoegen"
   ]
  },
  {
   "cell_type": "markdown",
   "metadata": {},
   "source": [
    "### Rijen"
   ]
  },
  {
   "cell_type": "markdown",
   "metadata": {},
   "source": [
    "Gebruik de originele databasetabel *sales_staff*.<br>\n",
    "Voeg een extra rij toe met eigen invulling. Zorg ervoor dat de index netjes doorloopt.<br>\n",
    "Hulpvraag: welke waarde geef je nu aan axis?"
   ]
  },
  {
   "cell_type": "code",
   "execution_count": 29,
   "metadata": {
    "ExecuteTime": {
     "end_time": "2024-02-28T18:32:34.146916Z",
     "start_time": "2024-02-28T18:32:34.132330Z"
    }
   },
   "outputs": [
    {
     "data": {
      "text/plain": "    SALES_STAFF_CODE FIRST_NAME   LAST_NAME                   POSITION_EN  \\\n0                100     Tuomas  Savolainen  Level 2 Sales Representative   \n1                101   Chang-ho         Kim  Level 2 Sales Representative   \n2                102    Jung-ho        Choi  Level 3 Sales Representative   \n3                103  Kwei-Ping         Kao  Level 2 Sales Representative   \n4                104  Chin-Tsai        Fang  Level 3 Sales Representative   \n..               ...        ...         ...                           ...   \n98                96     Bayard       Lopes                Branch Manager   \n99                97     Viviam      Barros  Level 3 Sales Representative   \n100               98    Eduardo   Guimarães  Level 2 Sales Representative   \n101               99     Helena    Lindholm  Level 3 Sales Representative   \n102             6699       Tony   Van Gulik                          Baas   \n\n              WORK_PHONE EXTENSION                  FAX  \\\n0    +358(0)17 - 433 127       825  +358(0)17 - 433 129   \n1          82-2-778-6587      1228        82-2-778-6586   \n2          82-2-778-6587      2641        82-2-778-6586   \n3        886-2-2975-1988      1541      886-2-2989-4978   \n4        886-2-2975-1988      2311      886-2-2989-4978   \n..                   ...       ...                  ...   \n98     +55 (11) 344-4444      3490    +55 (11) 333-2223   \n99     +55 (11) 344-4444      3364    +55 (11) 333-2223   \n100    +55 (11) 344-4444      1442    +55 (11) 333-2223   \n101  +358(0)17 - 433 127       489  +358(0)17 - 433 129   \n102         555-555-5555      6969                -5555   \n\n                       EMAIL  DATE_HIRED SALES_BRANCH_CODE TRIAL888  \n0    TSavolainen@grtd123.com   23-7-2014                31        T  \n1           CKim@grtd123.com  15-12-2014                32        T  \n2          JChoi@grtd123.com  27-11-2014                32        T  \n3          KKwao@grtd123.com   7-10-2014                33        T  \n4           CFon@grtd123.com    8-5-2012                33        T  \n..                       ...         ...               ...      ...  \n98        BLopes@grtd123.com   12-8-2013                30        T  \n99       VBarros@grtd123.com   10-2-2017                30        T  \n100   EGuimaraes@grtd123.com   14-2-2015                30        T  \n101    HLindholm@grtd123.com   17-8-2013                31        T  \n102            Tony@mail.com  1999-12-31                69        T  \n\n[103 rows x 11 columns]",
      "text/html": "<div>\n<style scoped>\n    .dataframe tbody tr th:only-of-type {\n        vertical-align: middle;\n    }\n\n    .dataframe tbody tr th {\n        vertical-align: top;\n    }\n\n    .dataframe thead th {\n        text-align: right;\n    }\n</style>\n<table border=\"1\" class=\"dataframe\">\n  <thead>\n    <tr style=\"text-align: right;\">\n      <th></th>\n      <th>SALES_STAFF_CODE</th>\n      <th>FIRST_NAME</th>\n      <th>LAST_NAME</th>\n      <th>POSITION_EN</th>\n      <th>WORK_PHONE</th>\n      <th>EXTENSION</th>\n      <th>FAX</th>\n      <th>EMAIL</th>\n      <th>DATE_HIRED</th>\n      <th>SALES_BRANCH_CODE</th>\n      <th>TRIAL888</th>\n    </tr>\n  </thead>\n  <tbody>\n    <tr>\n      <th>0</th>\n      <td>100</td>\n      <td>Tuomas</td>\n      <td>Savolainen</td>\n      <td>Level 2 Sales Representative</td>\n      <td>+358(0)17 - 433 127</td>\n      <td>825</td>\n      <td>+358(0)17 - 433 129</td>\n      <td>TSavolainen@grtd123.com</td>\n      <td>23-7-2014</td>\n      <td>31</td>\n      <td>T</td>\n    </tr>\n    <tr>\n      <th>1</th>\n      <td>101</td>\n      <td>Chang-ho</td>\n      <td>Kim</td>\n      <td>Level 2 Sales Representative</td>\n      <td>82-2-778-6587</td>\n      <td>1228</td>\n      <td>82-2-778-6586</td>\n      <td>CKim@grtd123.com</td>\n      <td>15-12-2014</td>\n      <td>32</td>\n      <td>T</td>\n    </tr>\n    <tr>\n      <th>2</th>\n      <td>102</td>\n      <td>Jung-ho</td>\n      <td>Choi</td>\n      <td>Level 3 Sales Representative</td>\n      <td>82-2-778-6587</td>\n      <td>2641</td>\n      <td>82-2-778-6586</td>\n      <td>JChoi@grtd123.com</td>\n      <td>27-11-2014</td>\n      <td>32</td>\n      <td>T</td>\n    </tr>\n    <tr>\n      <th>3</th>\n      <td>103</td>\n      <td>Kwei-Ping</td>\n      <td>Kao</td>\n      <td>Level 2 Sales Representative</td>\n      <td>886-2-2975-1988</td>\n      <td>1541</td>\n      <td>886-2-2989-4978</td>\n      <td>KKwao@grtd123.com</td>\n      <td>7-10-2014</td>\n      <td>33</td>\n      <td>T</td>\n    </tr>\n    <tr>\n      <th>4</th>\n      <td>104</td>\n      <td>Chin-Tsai</td>\n      <td>Fang</td>\n      <td>Level 3 Sales Representative</td>\n      <td>886-2-2975-1988</td>\n      <td>2311</td>\n      <td>886-2-2989-4978</td>\n      <td>CFon@grtd123.com</td>\n      <td>8-5-2012</td>\n      <td>33</td>\n      <td>T</td>\n    </tr>\n    <tr>\n      <th>...</th>\n      <td>...</td>\n      <td>...</td>\n      <td>...</td>\n      <td>...</td>\n      <td>...</td>\n      <td>...</td>\n      <td>...</td>\n      <td>...</td>\n      <td>...</td>\n      <td>...</td>\n      <td>...</td>\n    </tr>\n    <tr>\n      <th>98</th>\n      <td>96</td>\n      <td>Bayard</td>\n      <td>Lopes</td>\n      <td>Branch Manager</td>\n      <td>+55 (11) 344-4444</td>\n      <td>3490</td>\n      <td>+55 (11) 333-2223</td>\n      <td>BLopes@grtd123.com</td>\n      <td>12-8-2013</td>\n      <td>30</td>\n      <td>T</td>\n    </tr>\n    <tr>\n      <th>99</th>\n      <td>97</td>\n      <td>Viviam</td>\n      <td>Barros</td>\n      <td>Level 3 Sales Representative</td>\n      <td>+55 (11) 344-4444</td>\n      <td>3364</td>\n      <td>+55 (11) 333-2223</td>\n      <td>VBarros@grtd123.com</td>\n      <td>10-2-2017</td>\n      <td>30</td>\n      <td>T</td>\n    </tr>\n    <tr>\n      <th>100</th>\n      <td>98</td>\n      <td>Eduardo</td>\n      <td>Guimarães</td>\n      <td>Level 2 Sales Representative</td>\n      <td>+55 (11) 344-4444</td>\n      <td>1442</td>\n      <td>+55 (11) 333-2223</td>\n      <td>EGuimaraes@grtd123.com</td>\n      <td>14-2-2015</td>\n      <td>30</td>\n      <td>T</td>\n    </tr>\n    <tr>\n      <th>101</th>\n      <td>99</td>\n      <td>Helena</td>\n      <td>Lindholm</td>\n      <td>Level 3 Sales Representative</td>\n      <td>+358(0)17 - 433 127</td>\n      <td>489</td>\n      <td>+358(0)17 - 433 129</td>\n      <td>HLindholm@grtd123.com</td>\n      <td>17-8-2013</td>\n      <td>31</td>\n      <td>T</td>\n    </tr>\n    <tr>\n      <th>102</th>\n      <td>6699</td>\n      <td>Tony</td>\n      <td>Van Gulik</td>\n      <td>Baas</td>\n      <td>555-555-5555</td>\n      <td>6969</td>\n      <td>-5555</td>\n      <td>Tony@mail.com</td>\n      <td>1999-12-31</td>\n      <td>69</td>\n      <td>T</td>\n    </tr>\n  </tbody>\n</table>\n<p>103 rows × 11 columns</p>\n</div>"
     },
     "execution_count": 29,
     "metadata": {},
     "output_type": "execute_result"
    }
   ],
   "source": [
    "new_staff = {\n",
    "    'SALES_STAFF_CODE': [6699],\n",
    "    'FIRST_NAME':['Tony'],\n",
    "    'LAST_NAME':['Van Gulik'],\n",
    "    'POSITION_EN':['Baas'],\n",
    "    'WORK_PHONE':['555-555-5555'],\n",
    "    'EXTENSION': ['6969'],\n",
    "    'FAX':[555-555-5555],\n",
    "    'DATE_HIRED': ['1999-12-31'],\n",
    "    'SALES_BRANCH_CODE':['69'],\n",
    "    'TRIAL888':['T'],\n",
    "    'EMAIL':['Tony@mail.com']\n",
    "}\n",
    "pd.concat([staff,pd.DataFrame(new_staff)],ignore_index=True)"
   ]
  },
  {
   "cell_type": "code",
   "outputs": [],
   "source": [],
   "metadata": {
    "collapsed": false
   }
  },
  {
   "cell_type": "markdown",
   "metadata": {},
   "source": [
    "### Kolommen"
   ]
  },
  {
   "cell_type": "markdown",
   "metadata": {},
   "source": [
    "Voeg een kolom *FULL_NAME* toe die de waarden van *FIRST_NAME* en *LAST_NAME* achter elkaar zet, gescheiden door een spatie."
   ]
  },
  {
   "cell_type": "code",
   "execution_count": 31,
   "metadata": {
    "ExecuteTime": {
     "end_time": "2024-02-28T18:36:37.928553Z",
     "start_time": "2024-02-28T18:36:37.917897Z"
    }
   },
   "outputs": [
    {
     "data": {
      "text/plain": "  SALES_STAFF_CODE FIRST_NAME   LAST_NAME                   POSITION_EN  \\\n0              100     Tuomas  Savolainen  Level 2 Sales Representative   \n1              101   Chang-ho         Kim  Level 2 Sales Representative   \n2              102    Jung-ho        Choi  Level 3 Sales Representative   \n3              103  Kwei-Ping         Kao  Level 2 Sales Representative   \n4              104  Chin-Tsai        Fang  Level 3 Sales Representative   \n\n            WORK_PHONE EXTENSION                  FAX  \\\n0  +358(0)17 - 433 127       825  +358(0)17 - 433 129   \n1        82-2-778-6587      1228        82-2-778-6586   \n2        82-2-778-6587      2641        82-2-778-6586   \n3      886-2-2975-1988      1541      886-2-2989-4978   \n4      886-2-2975-1988      2311      886-2-2989-4978   \n\n                     EMAIL  DATE_HIRED SALES_BRANCH_CODE TRIAL888  \\\n0  TSavolainen@grtd123.com   23-7-2014                31        T   \n1         CKim@grtd123.com  15-12-2014                32        T   \n2        JChoi@grtd123.com  27-11-2014                32        T   \n3        KKwao@grtd123.com   7-10-2014                33        T   \n4         CFon@grtd123.com    8-5-2012                33        T   \n\n           FULL_NAME  \n0  Tuomas Savolainen  \n1       Chang-ho Kim  \n2       Jung-ho Choi  \n3      Kwei-Ping Kao  \n4     Chin-Tsai Fang  ",
      "text/html": "<div>\n<style scoped>\n    .dataframe tbody tr th:only-of-type {\n        vertical-align: middle;\n    }\n\n    .dataframe tbody tr th {\n        vertical-align: top;\n    }\n\n    .dataframe thead th {\n        text-align: right;\n    }\n</style>\n<table border=\"1\" class=\"dataframe\">\n  <thead>\n    <tr style=\"text-align: right;\">\n      <th></th>\n      <th>SALES_STAFF_CODE</th>\n      <th>FIRST_NAME</th>\n      <th>LAST_NAME</th>\n      <th>POSITION_EN</th>\n      <th>WORK_PHONE</th>\n      <th>EXTENSION</th>\n      <th>FAX</th>\n      <th>EMAIL</th>\n      <th>DATE_HIRED</th>\n      <th>SALES_BRANCH_CODE</th>\n      <th>TRIAL888</th>\n      <th>FULL_NAME</th>\n    </tr>\n  </thead>\n  <tbody>\n    <tr>\n      <th>0</th>\n      <td>100</td>\n      <td>Tuomas</td>\n      <td>Savolainen</td>\n      <td>Level 2 Sales Representative</td>\n      <td>+358(0)17 - 433 127</td>\n      <td>825</td>\n      <td>+358(0)17 - 433 129</td>\n      <td>TSavolainen@grtd123.com</td>\n      <td>23-7-2014</td>\n      <td>31</td>\n      <td>T</td>\n      <td>Tuomas Savolainen</td>\n    </tr>\n    <tr>\n      <th>1</th>\n      <td>101</td>\n      <td>Chang-ho</td>\n      <td>Kim</td>\n      <td>Level 2 Sales Representative</td>\n      <td>82-2-778-6587</td>\n      <td>1228</td>\n      <td>82-2-778-6586</td>\n      <td>CKim@grtd123.com</td>\n      <td>15-12-2014</td>\n      <td>32</td>\n      <td>T</td>\n      <td>Chang-ho Kim</td>\n    </tr>\n    <tr>\n      <th>2</th>\n      <td>102</td>\n      <td>Jung-ho</td>\n      <td>Choi</td>\n      <td>Level 3 Sales Representative</td>\n      <td>82-2-778-6587</td>\n      <td>2641</td>\n      <td>82-2-778-6586</td>\n      <td>JChoi@grtd123.com</td>\n      <td>27-11-2014</td>\n      <td>32</td>\n      <td>T</td>\n      <td>Jung-ho Choi</td>\n    </tr>\n    <tr>\n      <th>3</th>\n      <td>103</td>\n      <td>Kwei-Ping</td>\n      <td>Kao</td>\n      <td>Level 2 Sales Representative</td>\n      <td>886-2-2975-1988</td>\n      <td>1541</td>\n      <td>886-2-2989-4978</td>\n      <td>KKwao@grtd123.com</td>\n      <td>7-10-2014</td>\n      <td>33</td>\n      <td>T</td>\n      <td>Kwei-Ping Kao</td>\n    </tr>\n    <tr>\n      <th>4</th>\n      <td>104</td>\n      <td>Chin-Tsai</td>\n      <td>Fang</td>\n      <td>Level 3 Sales Representative</td>\n      <td>886-2-2975-1988</td>\n      <td>2311</td>\n      <td>886-2-2989-4978</td>\n      <td>CFon@grtd123.com</td>\n      <td>8-5-2012</td>\n      <td>33</td>\n      <td>T</td>\n      <td>Chin-Tsai Fang</td>\n    </tr>\n  </tbody>\n</table>\n</div>"
     },
     "execution_count": 31,
     "metadata": {},
     "output_type": "execute_result"
    }
   ],
   "source": [
    "staff_full_name = staff.copy()\n",
    "staff_full_name['FULL_NAME'] = staff_full_name['FIRST_NAME'] + ' ' + staff_full_name['LAST_NAME']\n",
    "staff_full_name.head()"
   ]
  },
  {
   "cell_type": "markdown",
   "metadata": {},
   "source": [
    "## Data wijzigen"
   ]
  },
  {
   "cell_type": "markdown",
   "metadata": {},
   "source": [
    "### Datatypen"
   ]
  },
  {
   "cell_type": "markdown",
   "metadata": {},
   "source": [
    "Door het attribuut .dtypes van een DataFrame op te vragen krijg je een serie die per kolom het datatype weergeeft. Doe dit bij de originele databasetabel *sales_staff*"
   ]
  },
  {
   "cell_type": "code",
   "execution_count": 32,
   "metadata": {
    "ExecuteTime": {
     "end_time": "2024-02-28T18:37:32.036996Z",
     "start_time": "2024-02-28T18:37:32.031947Z"
    }
   },
   "outputs": [
    {
     "data": {
      "text/plain": "SALES_STAFF_CODE     object\nFIRST_NAME           object\nLAST_NAME            object\nPOSITION_EN          object\nWORK_PHONE           object\nEXTENSION            object\nFAX                  object\nEMAIL                object\nDATE_HIRED           object\nSALES_BRANCH_CODE    object\nTRIAL888             object\ndtype: object"
     },
     "execution_count": 32,
     "metadata": {},
     "output_type": "execute_result"
    }
   ],
   "source": [
    "staff.dtypes"
   ]
  },
  {
   "cell_type": "markdown",
   "metadata": {},
   "source": [
    "Hier valt op dat elke kolom het datatype 'object' heeft: Python leest dus alles als string. Wiskundige operaties zijn hierdoor niet mogelijk.<br>\n",
    "We kunnen proberen om kolommen met getallen, bijvoorbeeld de 'extension', te converteren naar een int. Zie onderstaande code."
   ]
  },
  {
   "cell_type": "code",
   "execution_count": 35,
   "metadata": {
    "ExecuteTime": {
     "end_time": "2024-02-28T18:39:47.808210Z",
     "start_time": "2024-02-28T18:39:47.115204Z"
    }
   },
   "outputs": [
    {
     "ename": "IntCastingNaNError",
     "evalue": "Cannot convert non-finite values (NA or inf) to integer",
     "output_type": "error",
     "traceback": [
      "\u001B[1;31m---------------------------------------------------------------------------\u001B[0m",
      "\u001B[1;31mIntCastingNaNError\u001B[0m                        Traceback (most recent call last)",
      "Cell \u001B[1;32mIn[35], line 1\u001B[0m\n\u001B[1;32m----> 1\u001B[0m staff[\u001B[38;5;124m'\u001B[39m\u001B[38;5;124mEXTENSION\u001B[39m\u001B[38;5;124m'\u001B[39m] \u001B[38;5;241m=\u001B[39m \u001B[43mstaff\u001B[49m\u001B[43m[\u001B[49m\u001B[38;5;124;43m'\u001B[39;49m\u001B[38;5;124;43mEXTENSION\u001B[39;49m\u001B[38;5;124;43m'\u001B[39;49m\u001B[43m]\u001B[49m\u001B[38;5;241;43m.\u001B[39;49m\u001B[43mastype\u001B[49m\u001B[43m(\u001B[49m\u001B[38;5;28;43mint\u001B[39;49m\u001B[43m)\u001B[49m\n\u001B[0;32m      2\u001B[0m staff\u001B[38;5;241m.\u001B[39mdtypes\n",
      "File \u001B[1;32m~\\PycharmProjects\\pythonProject1\\.venv\\Lib\\site-packages\\pandas\\core\\generic.py:6640\u001B[0m, in \u001B[0;36mNDFrame.astype\u001B[1;34m(self, dtype, copy, errors)\u001B[0m\n\u001B[0;32m   6634\u001B[0m     results \u001B[38;5;241m=\u001B[39m [\n\u001B[0;32m   6635\u001B[0m         ser\u001B[38;5;241m.\u001B[39mastype(dtype, copy\u001B[38;5;241m=\u001B[39mcopy, errors\u001B[38;5;241m=\u001B[39merrors) \u001B[38;5;28;01mfor\u001B[39;00m _, ser \u001B[38;5;129;01min\u001B[39;00m \u001B[38;5;28mself\u001B[39m\u001B[38;5;241m.\u001B[39mitems()\n\u001B[0;32m   6636\u001B[0m     ]\n\u001B[0;32m   6638\u001B[0m \u001B[38;5;28;01melse\u001B[39;00m:\n\u001B[0;32m   6639\u001B[0m     \u001B[38;5;66;03m# else, only a single dtype is given\u001B[39;00m\n\u001B[1;32m-> 6640\u001B[0m     new_data \u001B[38;5;241m=\u001B[39m \u001B[38;5;28;43mself\u001B[39;49m\u001B[38;5;241;43m.\u001B[39;49m\u001B[43m_mgr\u001B[49m\u001B[38;5;241;43m.\u001B[39;49m\u001B[43mastype\u001B[49m\u001B[43m(\u001B[49m\u001B[43mdtype\u001B[49m\u001B[38;5;241;43m=\u001B[39;49m\u001B[43mdtype\u001B[49m\u001B[43m,\u001B[49m\u001B[43m \u001B[49m\u001B[43mcopy\u001B[49m\u001B[38;5;241;43m=\u001B[39;49m\u001B[43mcopy\u001B[49m\u001B[43m,\u001B[49m\u001B[43m \u001B[49m\u001B[43merrors\u001B[49m\u001B[38;5;241;43m=\u001B[39;49m\u001B[43merrors\u001B[49m\u001B[43m)\u001B[49m\n\u001B[0;32m   6641\u001B[0m     res \u001B[38;5;241m=\u001B[39m \u001B[38;5;28mself\u001B[39m\u001B[38;5;241m.\u001B[39m_constructor_from_mgr(new_data, axes\u001B[38;5;241m=\u001B[39mnew_data\u001B[38;5;241m.\u001B[39maxes)\n\u001B[0;32m   6642\u001B[0m     \u001B[38;5;28;01mreturn\u001B[39;00m res\u001B[38;5;241m.\u001B[39m__finalize__(\u001B[38;5;28mself\u001B[39m, method\u001B[38;5;241m=\u001B[39m\u001B[38;5;124m\"\u001B[39m\u001B[38;5;124mastype\u001B[39m\u001B[38;5;124m\"\u001B[39m)\n",
      "File \u001B[1;32m~\\PycharmProjects\\pythonProject1\\.venv\\Lib\\site-packages\\pandas\\core\\internals\\managers.py:430\u001B[0m, in \u001B[0;36mBaseBlockManager.astype\u001B[1;34m(self, dtype, copy, errors)\u001B[0m\n\u001B[0;32m    427\u001B[0m \u001B[38;5;28;01melif\u001B[39;00m using_copy_on_write():\n\u001B[0;32m    428\u001B[0m     copy \u001B[38;5;241m=\u001B[39m \u001B[38;5;28;01mFalse\u001B[39;00m\n\u001B[1;32m--> 430\u001B[0m \u001B[38;5;28;01mreturn\u001B[39;00m \u001B[38;5;28;43mself\u001B[39;49m\u001B[38;5;241;43m.\u001B[39;49m\u001B[43mapply\u001B[49m\u001B[43m(\u001B[49m\n\u001B[0;32m    431\u001B[0m \u001B[43m    \u001B[49m\u001B[38;5;124;43m\"\u001B[39;49m\u001B[38;5;124;43mastype\u001B[39;49m\u001B[38;5;124;43m\"\u001B[39;49m\u001B[43m,\u001B[49m\n\u001B[0;32m    432\u001B[0m \u001B[43m    \u001B[49m\u001B[43mdtype\u001B[49m\u001B[38;5;241;43m=\u001B[39;49m\u001B[43mdtype\u001B[49m\u001B[43m,\u001B[49m\n\u001B[0;32m    433\u001B[0m \u001B[43m    \u001B[49m\u001B[43mcopy\u001B[49m\u001B[38;5;241;43m=\u001B[39;49m\u001B[43mcopy\u001B[49m\u001B[43m,\u001B[49m\n\u001B[0;32m    434\u001B[0m \u001B[43m    \u001B[49m\u001B[43merrors\u001B[49m\u001B[38;5;241;43m=\u001B[39;49m\u001B[43merrors\u001B[49m\u001B[43m,\u001B[49m\n\u001B[0;32m    435\u001B[0m \u001B[43m    \u001B[49m\u001B[43musing_cow\u001B[49m\u001B[38;5;241;43m=\u001B[39;49m\u001B[43musing_copy_on_write\u001B[49m\u001B[43m(\u001B[49m\u001B[43m)\u001B[49m\u001B[43m,\u001B[49m\n\u001B[0;32m    436\u001B[0m \u001B[43m\u001B[49m\u001B[43m)\u001B[49m\n",
      "File \u001B[1;32m~\\PycharmProjects\\pythonProject1\\.venv\\Lib\\site-packages\\pandas\\core\\internals\\managers.py:363\u001B[0m, in \u001B[0;36mBaseBlockManager.apply\u001B[1;34m(self, f, align_keys, **kwargs)\u001B[0m\n\u001B[0;32m    361\u001B[0m         applied \u001B[38;5;241m=\u001B[39m b\u001B[38;5;241m.\u001B[39mapply(f, \u001B[38;5;241m*\u001B[39m\u001B[38;5;241m*\u001B[39mkwargs)\n\u001B[0;32m    362\u001B[0m     \u001B[38;5;28;01melse\u001B[39;00m:\n\u001B[1;32m--> 363\u001B[0m         applied \u001B[38;5;241m=\u001B[39m \u001B[38;5;28;43mgetattr\u001B[39;49m\u001B[43m(\u001B[49m\u001B[43mb\u001B[49m\u001B[43m,\u001B[49m\u001B[43m \u001B[49m\u001B[43mf\u001B[49m\u001B[43m)\u001B[49m\u001B[43m(\u001B[49m\u001B[38;5;241;43m*\u001B[39;49m\u001B[38;5;241;43m*\u001B[39;49m\u001B[43mkwargs\u001B[49m\u001B[43m)\u001B[49m\n\u001B[0;32m    364\u001B[0m     result_blocks \u001B[38;5;241m=\u001B[39m extend_blocks(applied, result_blocks)\n\u001B[0;32m    366\u001B[0m out \u001B[38;5;241m=\u001B[39m \u001B[38;5;28mtype\u001B[39m(\u001B[38;5;28mself\u001B[39m)\u001B[38;5;241m.\u001B[39mfrom_blocks(result_blocks, \u001B[38;5;28mself\u001B[39m\u001B[38;5;241m.\u001B[39maxes)\n",
      "File \u001B[1;32m~\\PycharmProjects\\pythonProject1\\.venv\\Lib\\site-packages\\pandas\\core\\internals\\blocks.py:758\u001B[0m, in \u001B[0;36mBlock.astype\u001B[1;34m(self, dtype, copy, errors, using_cow, squeeze)\u001B[0m\n\u001B[0;32m    755\u001B[0m         \u001B[38;5;28;01mraise\u001B[39;00m \u001B[38;5;167;01mValueError\u001B[39;00m(\u001B[38;5;124m\"\u001B[39m\u001B[38;5;124mCan not squeeze with more than one column.\u001B[39m\u001B[38;5;124m\"\u001B[39m)\n\u001B[0;32m    756\u001B[0m     values \u001B[38;5;241m=\u001B[39m values[\u001B[38;5;241m0\u001B[39m, :]  \u001B[38;5;66;03m# type: ignore[call-overload]\u001B[39;00m\n\u001B[1;32m--> 758\u001B[0m new_values \u001B[38;5;241m=\u001B[39m \u001B[43mastype_array_safe\u001B[49m\u001B[43m(\u001B[49m\u001B[43mvalues\u001B[49m\u001B[43m,\u001B[49m\u001B[43m \u001B[49m\u001B[43mdtype\u001B[49m\u001B[43m,\u001B[49m\u001B[43m \u001B[49m\u001B[43mcopy\u001B[49m\u001B[38;5;241;43m=\u001B[39;49m\u001B[43mcopy\u001B[49m\u001B[43m,\u001B[49m\u001B[43m \u001B[49m\u001B[43merrors\u001B[49m\u001B[38;5;241;43m=\u001B[39;49m\u001B[43merrors\u001B[49m\u001B[43m)\u001B[49m\n\u001B[0;32m    760\u001B[0m new_values \u001B[38;5;241m=\u001B[39m maybe_coerce_values(new_values)\n\u001B[0;32m    762\u001B[0m refs \u001B[38;5;241m=\u001B[39m \u001B[38;5;28;01mNone\u001B[39;00m\n",
      "File \u001B[1;32m~\\PycharmProjects\\pythonProject1\\.venv\\Lib\\site-packages\\pandas\\core\\dtypes\\astype.py:237\u001B[0m, in \u001B[0;36mastype_array_safe\u001B[1;34m(values, dtype, copy, errors)\u001B[0m\n\u001B[0;32m    234\u001B[0m     dtype \u001B[38;5;241m=\u001B[39m dtype\u001B[38;5;241m.\u001B[39mnumpy_dtype\n\u001B[0;32m    236\u001B[0m \u001B[38;5;28;01mtry\u001B[39;00m:\n\u001B[1;32m--> 237\u001B[0m     new_values \u001B[38;5;241m=\u001B[39m \u001B[43mastype_array\u001B[49m\u001B[43m(\u001B[49m\u001B[43mvalues\u001B[49m\u001B[43m,\u001B[49m\u001B[43m \u001B[49m\u001B[43mdtype\u001B[49m\u001B[43m,\u001B[49m\u001B[43m \u001B[49m\u001B[43mcopy\u001B[49m\u001B[38;5;241;43m=\u001B[39;49m\u001B[43mcopy\u001B[49m\u001B[43m)\u001B[49m\n\u001B[0;32m    238\u001B[0m \u001B[38;5;28;01mexcept\u001B[39;00m (\u001B[38;5;167;01mValueError\u001B[39;00m, \u001B[38;5;167;01mTypeError\u001B[39;00m):\n\u001B[0;32m    239\u001B[0m     \u001B[38;5;66;03m# e.g. _astype_nansafe can fail on object-dtype of strings\u001B[39;00m\n\u001B[0;32m    240\u001B[0m     \u001B[38;5;66;03m#  trying to convert to float\u001B[39;00m\n\u001B[0;32m    241\u001B[0m     \u001B[38;5;28;01mif\u001B[39;00m errors \u001B[38;5;241m==\u001B[39m \u001B[38;5;124m\"\u001B[39m\u001B[38;5;124mignore\u001B[39m\u001B[38;5;124m\"\u001B[39m:\n",
      "File \u001B[1;32m~\\PycharmProjects\\pythonProject1\\.venv\\Lib\\site-packages\\pandas\\core\\dtypes\\astype.py:182\u001B[0m, in \u001B[0;36mastype_array\u001B[1;34m(values, dtype, copy)\u001B[0m\n\u001B[0;32m    179\u001B[0m     values \u001B[38;5;241m=\u001B[39m values\u001B[38;5;241m.\u001B[39mastype(dtype, copy\u001B[38;5;241m=\u001B[39mcopy)\n\u001B[0;32m    181\u001B[0m \u001B[38;5;28;01melse\u001B[39;00m:\n\u001B[1;32m--> 182\u001B[0m     values \u001B[38;5;241m=\u001B[39m \u001B[43m_astype_nansafe\u001B[49m\u001B[43m(\u001B[49m\u001B[43mvalues\u001B[49m\u001B[43m,\u001B[49m\u001B[43m \u001B[49m\u001B[43mdtype\u001B[49m\u001B[43m,\u001B[49m\u001B[43m \u001B[49m\u001B[43mcopy\u001B[49m\u001B[38;5;241;43m=\u001B[39;49m\u001B[43mcopy\u001B[49m\u001B[43m)\u001B[49m\n\u001B[0;32m    184\u001B[0m \u001B[38;5;66;03m# in pandas we don't store numpy str dtypes, so convert to object\u001B[39;00m\n\u001B[0;32m    185\u001B[0m \u001B[38;5;28;01mif\u001B[39;00m \u001B[38;5;28misinstance\u001B[39m(dtype, np\u001B[38;5;241m.\u001B[39mdtype) \u001B[38;5;129;01mand\u001B[39;00m \u001B[38;5;28missubclass\u001B[39m(values\u001B[38;5;241m.\u001B[39mdtype\u001B[38;5;241m.\u001B[39mtype, \u001B[38;5;28mstr\u001B[39m):\n",
      "File \u001B[1;32m~\\PycharmProjects\\pythonProject1\\.venv\\Lib\\site-packages\\pandas\\core\\dtypes\\astype.py:101\u001B[0m, in \u001B[0;36m_astype_nansafe\u001B[1;34m(arr, dtype, copy, skipna)\u001B[0m\n\u001B[0;32m     96\u001B[0m     \u001B[38;5;28;01mreturn\u001B[39;00m lib\u001B[38;5;241m.\u001B[39mensure_string_array(\n\u001B[0;32m     97\u001B[0m         arr, skipna\u001B[38;5;241m=\u001B[39mskipna, convert_na_value\u001B[38;5;241m=\u001B[39m\u001B[38;5;28;01mFalse\u001B[39;00m\n\u001B[0;32m     98\u001B[0m     )\u001B[38;5;241m.\u001B[39mreshape(shape)\n\u001B[0;32m    100\u001B[0m \u001B[38;5;28;01melif\u001B[39;00m np\u001B[38;5;241m.\u001B[39missubdtype(arr\u001B[38;5;241m.\u001B[39mdtype, np\u001B[38;5;241m.\u001B[39mfloating) \u001B[38;5;129;01mand\u001B[39;00m dtype\u001B[38;5;241m.\u001B[39mkind \u001B[38;5;129;01min\u001B[39;00m \u001B[38;5;124m\"\u001B[39m\u001B[38;5;124miu\u001B[39m\u001B[38;5;124m\"\u001B[39m:\n\u001B[1;32m--> 101\u001B[0m     \u001B[38;5;28;01mreturn\u001B[39;00m \u001B[43m_astype_float_to_int_nansafe\u001B[49m\u001B[43m(\u001B[49m\u001B[43marr\u001B[49m\u001B[43m,\u001B[49m\u001B[43m \u001B[49m\u001B[43mdtype\u001B[49m\u001B[43m,\u001B[49m\u001B[43m \u001B[49m\u001B[43mcopy\u001B[49m\u001B[43m)\u001B[49m\n\u001B[0;32m    103\u001B[0m \u001B[38;5;28;01melif\u001B[39;00m arr\u001B[38;5;241m.\u001B[39mdtype \u001B[38;5;241m==\u001B[39m \u001B[38;5;28mobject\u001B[39m:\n\u001B[0;32m    104\u001B[0m     \u001B[38;5;66;03m# if we have a datetime/timedelta array of objects\u001B[39;00m\n\u001B[0;32m    105\u001B[0m     \u001B[38;5;66;03m# then coerce to datetime64[ns] and use DatetimeArray.astype\u001B[39;00m\n\u001B[0;32m    107\u001B[0m     \u001B[38;5;28;01mif\u001B[39;00m lib\u001B[38;5;241m.\u001B[39mis_np_dtype(dtype, \u001B[38;5;124m\"\u001B[39m\u001B[38;5;124mM\u001B[39m\u001B[38;5;124m\"\u001B[39m):\n",
      "File \u001B[1;32m~\\PycharmProjects\\pythonProject1\\.venv\\Lib\\site-packages\\pandas\\core\\dtypes\\astype.py:145\u001B[0m, in \u001B[0;36m_astype_float_to_int_nansafe\u001B[1;34m(values, dtype, copy)\u001B[0m\n\u001B[0;32m    141\u001B[0m \u001B[38;5;250m\u001B[39m\u001B[38;5;124;03m\"\"\"\u001B[39;00m\n\u001B[0;32m    142\u001B[0m \u001B[38;5;124;03mastype with a check preventing converting NaN to an meaningless integer value.\u001B[39;00m\n\u001B[0;32m    143\u001B[0m \u001B[38;5;124;03m\"\"\"\u001B[39;00m\n\u001B[0;32m    144\u001B[0m \u001B[38;5;28;01mif\u001B[39;00m \u001B[38;5;129;01mnot\u001B[39;00m np\u001B[38;5;241m.\u001B[39misfinite(values)\u001B[38;5;241m.\u001B[39mall():\n\u001B[1;32m--> 145\u001B[0m     \u001B[38;5;28;01mraise\u001B[39;00m IntCastingNaNError(\n\u001B[0;32m    146\u001B[0m         \u001B[38;5;124m\"\u001B[39m\u001B[38;5;124mCannot convert non-finite values (NA or inf) to integer\u001B[39m\u001B[38;5;124m\"\u001B[39m\n\u001B[0;32m    147\u001B[0m     )\n\u001B[0;32m    148\u001B[0m \u001B[38;5;28;01mif\u001B[39;00m dtype\u001B[38;5;241m.\u001B[39mkind \u001B[38;5;241m==\u001B[39m \u001B[38;5;124m\"\u001B[39m\u001B[38;5;124mu\u001B[39m\u001B[38;5;124m\"\u001B[39m:\n\u001B[0;32m    149\u001B[0m     \u001B[38;5;66;03m# GH#45151\u001B[39;00m\n\u001B[0;32m    150\u001B[0m     \u001B[38;5;28;01mif\u001B[39;00m \u001B[38;5;129;01mnot\u001B[39;00m (values \u001B[38;5;241m>\u001B[39m\u001B[38;5;241m=\u001B[39m \u001B[38;5;241m0\u001B[39m)\u001B[38;5;241m.\u001B[39mall():\n",
      "\u001B[1;31mIntCastingNaNError\u001B[0m: Cannot convert non-finite values (NA or inf) to integer"
     ]
    }
   ],
   "source": [
    "staff['EXTENSION'] = staff['EXTENSION'].astype(int)\n",
    "staff.dtypes"
   ]
  },
  {
   "cell_type": "markdown",
   "metadata": {},
   "source": [
    "Dit lukt echter niet, omdat er in de kolom 'EXTENSION' lege waarden zitten die niet geconverteerd kunnen worden naar een int.<br>\n",
    "Wél kan je deze naar een float converteren, zie onderstaande code:"
   ]
  },
  {
   "cell_type": "code",
   "execution_count": 34,
   "metadata": {
    "ExecuteTime": {
     "end_time": "2024-02-28T18:39:30.130796Z",
     "start_time": "2024-02-28T18:39:30.125415Z"
    }
   },
   "outputs": [
    {
     "data": {
      "text/plain": "SALES_STAFF_CODE      object\nFIRST_NAME            object\nLAST_NAME             object\nPOSITION_EN           object\nWORK_PHONE            object\nEXTENSION            float64\nFAX                   object\nEMAIL                 object\nDATE_HIRED            object\nSALES_BRANCH_CODE     object\nTRIAL888              object\ndtype: object"
     },
     "execution_count": 34,
     "metadata": {},
     "output_type": "execute_result"
    }
   ],
   "source": [
    "staff['EXTENSION'] = staff['EXTENSION'].astype(float)\n",
    "staff.dtypes"
   ]
  },
  {
   "cell_type": "markdown",
   "metadata": {},
   "source": [
    "Als we in de rij van 'EXTENSION' kijken zien we dat de conversie van het datatype nu is gelukt.<br>\n",
    "Dit is <b>randvoorwaardelijk</b> voor het uitvoeren van wiskundige operaties.<br>"
   ]
  },
  {
   "cell_type": "markdown",
   "metadata": {},
   "source": [
    "### Rijen"
   ]
  },
  {
   "cell_type": "markdown",
   "metadata": {},
   "source": [
    "Zorg er nu voor dat bij alle extensions 1 wordt opgeteld."
   ]
  },
  {
   "cell_type": "code",
   "execution_count": 37,
   "metadata": {
    "ExecuteTime": {
     "end_time": "2024-02-28T18:42:03.450629Z",
     "start_time": "2024-02-28T18:42:03.439474Z"
    }
   },
   "outputs": [
    {
     "data": {
      "text/plain": "    SALES_STAFF_CODE FIRST_NAME   LAST_NAME                   POSITION_EN  \\\n0                100     Tuomas  Savolainen  Level 2 Sales Representative   \n1                101   Chang-ho         Kim  Level 2 Sales Representative   \n2                102    Jung-ho        Choi  Level 3 Sales Representative   \n3                103  Kwei-Ping         Kao  Level 2 Sales Representative   \n4                104  Chin-Tsai        Fang  Level 3 Sales Representative   \n..               ...        ...         ...                           ...   \n97                95      Tomás    Iglesias  Level 2 Sales Representative   \n98                96     Bayard       Lopes                Branch Manager   \n99                97     Viviam      Barros  Level 3 Sales Representative   \n100               98    Eduardo   Guimarães  Level 2 Sales Representative   \n101               99     Helena    Lindholm  Level 3 Sales Representative   \n\n              WORK_PHONE  EXTENSION                  FAX  \\\n0    +358(0)17 - 433 127      827.0  +358(0)17 - 433 129   \n1          82-2-778-6587     1230.0        82-2-778-6586   \n2          82-2-778-6587     2643.0        82-2-778-6586   \n3        886-2-2975-1988     1543.0      886-2-2989-4978   \n4        886-2-2975-1988     2313.0      886-2-2989-4978   \n..                   ...        ...                  ...   \n97       +35 94 322 3540      327.0      +35 91 548 1637   \n98     +55 (11) 344-4444     3492.0    +55 (11) 333-2223   \n99     +55 (11) 344-4444     3366.0    +55 (11) 333-2223   \n100    +55 (11) 344-4444     1444.0    +55 (11) 333-2223   \n101  +358(0)17 - 433 127      491.0  +358(0)17 - 433 129   \n\n                       EMAIL  DATE_HIRED SALES_BRANCH_CODE TRIAL888  \n0    TSavolainen@grtd123.com   23-7-2014                31        T  \n1           CKim@grtd123.com  15-12-2014                32        T  \n2          JChoi@grtd123.com  27-11-2014                32        T  \n3          KKwao@grtd123.com   7-10-2014                33        T  \n4           CFon@grtd123.com    8-5-2012                33        T  \n..                       ...         ...               ...      ...  \n97     TIglesias@grtd123.com   19-2-2014                29        T  \n98        BLopes@grtd123.com   12-8-2013                30        T  \n99       VBarros@grtd123.com   10-2-2017                30        T  \n100   EGuimaraes@grtd123.com   14-2-2015                30        T  \n101    HLindholm@grtd123.com   17-8-2013                31        T  \n\n[102 rows x 11 columns]",
      "text/html": "<div>\n<style scoped>\n    .dataframe tbody tr th:only-of-type {\n        vertical-align: middle;\n    }\n\n    .dataframe tbody tr th {\n        vertical-align: top;\n    }\n\n    .dataframe thead th {\n        text-align: right;\n    }\n</style>\n<table border=\"1\" class=\"dataframe\">\n  <thead>\n    <tr style=\"text-align: right;\">\n      <th></th>\n      <th>SALES_STAFF_CODE</th>\n      <th>FIRST_NAME</th>\n      <th>LAST_NAME</th>\n      <th>POSITION_EN</th>\n      <th>WORK_PHONE</th>\n      <th>EXTENSION</th>\n      <th>FAX</th>\n      <th>EMAIL</th>\n      <th>DATE_HIRED</th>\n      <th>SALES_BRANCH_CODE</th>\n      <th>TRIAL888</th>\n    </tr>\n  </thead>\n  <tbody>\n    <tr>\n      <th>0</th>\n      <td>100</td>\n      <td>Tuomas</td>\n      <td>Savolainen</td>\n      <td>Level 2 Sales Representative</td>\n      <td>+358(0)17 - 433 127</td>\n      <td>827.0</td>\n      <td>+358(0)17 - 433 129</td>\n      <td>TSavolainen@grtd123.com</td>\n      <td>23-7-2014</td>\n      <td>31</td>\n      <td>T</td>\n    </tr>\n    <tr>\n      <th>1</th>\n      <td>101</td>\n      <td>Chang-ho</td>\n      <td>Kim</td>\n      <td>Level 2 Sales Representative</td>\n      <td>82-2-778-6587</td>\n      <td>1230.0</td>\n      <td>82-2-778-6586</td>\n      <td>CKim@grtd123.com</td>\n      <td>15-12-2014</td>\n      <td>32</td>\n      <td>T</td>\n    </tr>\n    <tr>\n      <th>2</th>\n      <td>102</td>\n      <td>Jung-ho</td>\n      <td>Choi</td>\n      <td>Level 3 Sales Representative</td>\n      <td>82-2-778-6587</td>\n      <td>2643.0</td>\n      <td>82-2-778-6586</td>\n      <td>JChoi@grtd123.com</td>\n      <td>27-11-2014</td>\n      <td>32</td>\n      <td>T</td>\n    </tr>\n    <tr>\n      <th>3</th>\n      <td>103</td>\n      <td>Kwei-Ping</td>\n      <td>Kao</td>\n      <td>Level 2 Sales Representative</td>\n      <td>886-2-2975-1988</td>\n      <td>1543.0</td>\n      <td>886-2-2989-4978</td>\n      <td>KKwao@grtd123.com</td>\n      <td>7-10-2014</td>\n      <td>33</td>\n      <td>T</td>\n    </tr>\n    <tr>\n      <th>4</th>\n      <td>104</td>\n      <td>Chin-Tsai</td>\n      <td>Fang</td>\n      <td>Level 3 Sales Representative</td>\n      <td>886-2-2975-1988</td>\n      <td>2313.0</td>\n      <td>886-2-2989-4978</td>\n      <td>CFon@grtd123.com</td>\n      <td>8-5-2012</td>\n      <td>33</td>\n      <td>T</td>\n    </tr>\n    <tr>\n      <th>...</th>\n      <td>...</td>\n      <td>...</td>\n      <td>...</td>\n      <td>...</td>\n      <td>...</td>\n      <td>...</td>\n      <td>...</td>\n      <td>...</td>\n      <td>...</td>\n      <td>...</td>\n      <td>...</td>\n    </tr>\n    <tr>\n      <th>97</th>\n      <td>95</td>\n      <td>Tomás</td>\n      <td>Iglesias</td>\n      <td>Level 2 Sales Representative</td>\n      <td>+35 94 322 3540</td>\n      <td>327.0</td>\n      <td>+35 91 548 1637</td>\n      <td>TIglesias@grtd123.com</td>\n      <td>19-2-2014</td>\n      <td>29</td>\n      <td>T</td>\n    </tr>\n    <tr>\n      <th>98</th>\n      <td>96</td>\n      <td>Bayard</td>\n      <td>Lopes</td>\n      <td>Branch Manager</td>\n      <td>+55 (11) 344-4444</td>\n      <td>3492.0</td>\n      <td>+55 (11) 333-2223</td>\n      <td>BLopes@grtd123.com</td>\n      <td>12-8-2013</td>\n      <td>30</td>\n      <td>T</td>\n    </tr>\n    <tr>\n      <th>99</th>\n      <td>97</td>\n      <td>Viviam</td>\n      <td>Barros</td>\n      <td>Level 3 Sales Representative</td>\n      <td>+55 (11) 344-4444</td>\n      <td>3366.0</td>\n      <td>+55 (11) 333-2223</td>\n      <td>VBarros@grtd123.com</td>\n      <td>10-2-2017</td>\n      <td>30</td>\n      <td>T</td>\n    </tr>\n    <tr>\n      <th>100</th>\n      <td>98</td>\n      <td>Eduardo</td>\n      <td>Guimarães</td>\n      <td>Level 2 Sales Representative</td>\n      <td>+55 (11) 344-4444</td>\n      <td>1444.0</td>\n      <td>+55 (11) 333-2223</td>\n      <td>EGuimaraes@grtd123.com</td>\n      <td>14-2-2015</td>\n      <td>30</td>\n      <td>T</td>\n    </tr>\n    <tr>\n      <th>101</th>\n      <td>99</td>\n      <td>Helena</td>\n      <td>Lindholm</td>\n      <td>Level 3 Sales Representative</td>\n      <td>+358(0)17 - 433 127</td>\n      <td>491.0</td>\n      <td>+358(0)17 - 433 129</td>\n      <td>HLindholm@grtd123.com</td>\n      <td>17-8-2013</td>\n      <td>31</td>\n      <td>T</td>\n    </tr>\n  </tbody>\n</table>\n<p>102 rows × 11 columns</p>\n</div>"
     },
     "execution_count": 37,
     "metadata": {},
     "output_type": "execute_result"
    }
   ],
   "source": [
    "staff['EXTENSION'] += 1\n",
    "staff"
   ]
  },
  {
   "cell_type": "markdown",
   "metadata": {},
   "source": [
    "Elke 'Branch Manager' wordt nu 'General Manager'. Schrijf code zodat deze wijziging doorgevoerd wordt in het DataFrame."
   ]
  },
  {
   "cell_type": "code",
   "execution_count": 38,
   "metadata": {
    "ExecuteTime": {
     "end_time": "2024-02-28T18:43:34.319521Z",
     "start_time": "2024-02-28T18:43:34.306866Z"
    }
   },
   "outputs": [
    {
     "data": {
      "text/plain": "    SALES_STAFF_CODE FIRST_NAME   LAST_NAME                   POSITION_EN  \\\n0                100     Tuomas  Savolainen  Level 2 Sales Representative   \n1                101   Chang-ho         Kim  Level 2 Sales Representative   \n2                102    Jung-ho        Choi  Level 3 Sales Representative   \n3                103  Kwei-Ping         Kao  Level 2 Sales Representative   \n4                104  Chin-Tsai        Fang  Level 3 Sales Representative   \n..               ...        ...         ...                           ...   \n97                95      Tomás    Iglesias  Level 2 Sales Representative   \n98                96     Bayard       Lopes               General Manager   \n99                97     Viviam      Barros  Level 3 Sales Representative   \n100               98    Eduardo   Guimarães  Level 2 Sales Representative   \n101               99     Helena    Lindholm  Level 3 Sales Representative   \n\n              WORK_PHONE  EXTENSION                  FAX  \\\n0    +358(0)17 - 433 127      827.0  +358(0)17 - 433 129   \n1          82-2-778-6587     1230.0        82-2-778-6586   \n2          82-2-778-6587     2643.0        82-2-778-6586   \n3        886-2-2975-1988     1543.0      886-2-2989-4978   \n4        886-2-2975-1988     2313.0      886-2-2989-4978   \n..                   ...        ...                  ...   \n97       +35 94 322 3540      327.0      +35 91 548 1637   \n98     +55 (11) 344-4444     3492.0    +55 (11) 333-2223   \n99     +55 (11) 344-4444     3366.0    +55 (11) 333-2223   \n100    +55 (11) 344-4444     1444.0    +55 (11) 333-2223   \n101  +358(0)17 - 433 127      491.0  +358(0)17 - 433 129   \n\n                       EMAIL  DATE_HIRED SALES_BRANCH_CODE TRIAL888  \n0    TSavolainen@grtd123.com   23-7-2014                31        T  \n1           CKim@grtd123.com  15-12-2014                32        T  \n2          JChoi@grtd123.com  27-11-2014                32        T  \n3          KKwao@grtd123.com   7-10-2014                33        T  \n4           CFon@grtd123.com    8-5-2012                33        T  \n..                       ...         ...               ...      ...  \n97     TIglesias@grtd123.com   19-2-2014                29        T  \n98        BLopes@grtd123.com   12-8-2013                30        T  \n99       VBarros@grtd123.com   10-2-2017                30        T  \n100   EGuimaraes@grtd123.com   14-2-2015                30        T  \n101    HLindholm@grtd123.com   17-8-2013                31        T  \n\n[102 rows x 11 columns]",
      "text/html": "<div>\n<style scoped>\n    .dataframe tbody tr th:only-of-type {\n        vertical-align: middle;\n    }\n\n    .dataframe tbody tr th {\n        vertical-align: top;\n    }\n\n    .dataframe thead th {\n        text-align: right;\n    }\n</style>\n<table border=\"1\" class=\"dataframe\">\n  <thead>\n    <tr style=\"text-align: right;\">\n      <th></th>\n      <th>SALES_STAFF_CODE</th>\n      <th>FIRST_NAME</th>\n      <th>LAST_NAME</th>\n      <th>POSITION_EN</th>\n      <th>WORK_PHONE</th>\n      <th>EXTENSION</th>\n      <th>FAX</th>\n      <th>EMAIL</th>\n      <th>DATE_HIRED</th>\n      <th>SALES_BRANCH_CODE</th>\n      <th>TRIAL888</th>\n    </tr>\n  </thead>\n  <tbody>\n    <tr>\n      <th>0</th>\n      <td>100</td>\n      <td>Tuomas</td>\n      <td>Savolainen</td>\n      <td>Level 2 Sales Representative</td>\n      <td>+358(0)17 - 433 127</td>\n      <td>827.0</td>\n      <td>+358(0)17 - 433 129</td>\n      <td>TSavolainen@grtd123.com</td>\n      <td>23-7-2014</td>\n      <td>31</td>\n      <td>T</td>\n    </tr>\n    <tr>\n      <th>1</th>\n      <td>101</td>\n      <td>Chang-ho</td>\n      <td>Kim</td>\n      <td>Level 2 Sales Representative</td>\n      <td>82-2-778-6587</td>\n      <td>1230.0</td>\n      <td>82-2-778-6586</td>\n      <td>CKim@grtd123.com</td>\n      <td>15-12-2014</td>\n      <td>32</td>\n      <td>T</td>\n    </tr>\n    <tr>\n      <th>2</th>\n      <td>102</td>\n      <td>Jung-ho</td>\n      <td>Choi</td>\n      <td>Level 3 Sales Representative</td>\n      <td>82-2-778-6587</td>\n      <td>2643.0</td>\n      <td>82-2-778-6586</td>\n      <td>JChoi@grtd123.com</td>\n      <td>27-11-2014</td>\n      <td>32</td>\n      <td>T</td>\n    </tr>\n    <tr>\n      <th>3</th>\n      <td>103</td>\n      <td>Kwei-Ping</td>\n      <td>Kao</td>\n      <td>Level 2 Sales Representative</td>\n      <td>886-2-2975-1988</td>\n      <td>1543.0</td>\n      <td>886-2-2989-4978</td>\n      <td>KKwao@grtd123.com</td>\n      <td>7-10-2014</td>\n      <td>33</td>\n      <td>T</td>\n    </tr>\n    <tr>\n      <th>4</th>\n      <td>104</td>\n      <td>Chin-Tsai</td>\n      <td>Fang</td>\n      <td>Level 3 Sales Representative</td>\n      <td>886-2-2975-1988</td>\n      <td>2313.0</td>\n      <td>886-2-2989-4978</td>\n      <td>CFon@grtd123.com</td>\n      <td>8-5-2012</td>\n      <td>33</td>\n      <td>T</td>\n    </tr>\n    <tr>\n      <th>...</th>\n      <td>...</td>\n      <td>...</td>\n      <td>...</td>\n      <td>...</td>\n      <td>...</td>\n      <td>...</td>\n      <td>...</td>\n      <td>...</td>\n      <td>...</td>\n      <td>...</td>\n      <td>...</td>\n    </tr>\n    <tr>\n      <th>97</th>\n      <td>95</td>\n      <td>Tomás</td>\n      <td>Iglesias</td>\n      <td>Level 2 Sales Representative</td>\n      <td>+35 94 322 3540</td>\n      <td>327.0</td>\n      <td>+35 91 548 1637</td>\n      <td>TIglesias@grtd123.com</td>\n      <td>19-2-2014</td>\n      <td>29</td>\n      <td>T</td>\n    </tr>\n    <tr>\n      <th>98</th>\n      <td>96</td>\n      <td>Bayard</td>\n      <td>Lopes</td>\n      <td>General Manager</td>\n      <td>+55 (11) 344-4444</td>\n      <td>3492.0</td>\n      <td>+55 (11) 333-2223</td>\n      <td>BLopes@grtd123.com</td>\n      <td>12-8-2013</td>\n      <td>30</td>\n      <td>T</td>\n    </tr>\n    <tr>\n      <th>99</th>\n      <td>97</td>\n      <td>Viviam</td>\n      <td>Barros</td>\n      <td>Level 3 Sales Representative</td>\n      <td>+55 (11) 344-4444</td>\n      <td>3366.0</td>\n      <td>+55 (11) 333-2223</td>\n      <td>VBarros@grtd123.com</td>\n      <td>10-2-2017</td>\n      <td>30</td>\n      <td>T</td>\n    </tr>\n    <tr>\n      <th>100</th>\n      <td>98</td>\n      <td>Eduardo</td>\n      <td>Guimarães</td>\n      <td>Level 2 Sales Representative</td>\n      <td>+55 (11) 344-4444</td>\n      <td>1444.0</td>\n      <td>+55 (11) 333-2223</td>\n      <td>EGuimaraes@grtd123.com</td>\n      <td>14-2-2015</td>\n      <td>30</td>\n      <td>T</td>\n    </tr>\n    <tr>\n      <th>101</th>\n      <td>99</td>\n      <td>Helena</td>\n      <td>Lindholm</td>\n      <td>Level 3 Sales Representative</td>\n      <td>+358(0)17 - 433 127</td>\n      <td>491.0</td>\n      <td>+358(0)17 - 433 129</td>\n      <td>HLindholm@grtd123.com</td>\n      <td>17-8-2013</td>\n      <td>31</td>\n      <td>T</td>\n    </tr>\n  </tbody>\n</table>\n<p>102 rows × 11 columns</p>\n</div>"
     },
     "execution_count": 38,
     "metadata": {},
     "output_type": "execute_result"
    }
   ],
   "source": [
    "staff = staff.replace('Branch Manager','General Manager')\n",
    "staff"
   ]
  },
  {
   "cell_type": "markdown",
   "metadata": {},
   "source": [
    "### Kolommen"
   ]
  },
  {
   "cell_type": "markdown",
   "metadata": {},
   "source": [
    "Verander de kolomnaam 'POSITION_EN' naar 'POSITION'."
   ]
  },
  {
   "cell_type": "code",
   "execution_count": 40,
   "metadata": {
    "ExecuteTime": {
     "end_time": "2024-02-28T18:44:17.437202Z",
     "start_time": "2024-02-28T18:44:17.433621Z"
    }
   },
   "outputs": [],
   "source": [
    "staff = staff.rename(columns = {'POSITION_EN':'POSITION'})"
   ]
  },
  {
   "cell_type": "markdown",
   "metadata": {},
   "source": [
    "## Data verwijderen"
   ]
  },
  {
   "cell_type": "markdown",
   "metadata": {},
   "source": [
    "### Rijen"
   ]
  },
  {
   "cell_type": "markdown",
   "metadata": {},
   "source": [
    "De medewerkers op indexen 99, 100 en 101 hebben helaas ontslag genomen.<br>\n",
    "Verwijder de bijbehorende rijen uit het DataFrame. Gebruik slechts één keer de .drop()-methode."
   ]
  },
  {
   "cell_type": "code",
   "execution_count": 44,
   "metadata": {
    "ExecuteTime": {
     "end_time": "2024-02-28T18:46:36.144265Z",
     "start_time": "2024-02-28T18:46:36.095703Z"
    }
   },
   "outputs": [
    {
     "ename": "KeyError",
     "evalue": "'[99] not found in axis'",
     "output_type": "error",
     "traceback": [
      "\u001B[1;31m---------------------------------------------------------------------------\u001B[0m",
      "\u001B[1;31mKeyError\u001B[0m                                  Traceback (most recent call last)",
      "Cell \u001B[1;32mIn[44], line 1\u001B[0m\n\u001B[1;32m----> 1\u001B[0m staff \u001B[38;5;241m=\u001B[39m \u001B[43mstaff\u001B[49m\u001B[38;5;241;43m.\u001B[39;49m\u001B[43mdrop\u001B[49m\u001B[43m(\u001B[49m\u001B[43m[\u001B[49m\u001B[38;5;241;43m99\u001B[39;49m\u001B[43m,\u001B[49m\u001B[38;5;241;43m100\u001B[39;49m\u001B[43m,\u001B[49m\u001B[38;5;241;43m101\u001B[39;49m\u001B[43m]\u001B[49m\u001B[43m)\u001B[49m\n",
      "File \u001B[1;32m~\\PycharmProjects\\pythonProject1\\.venv\\Lib\\site-packages\\pandas\\core\\frame.py:5568\u001B[0m, in \u001B[0;36mDataFrame.drop\u001B[1;34m(self, labels, axis, index, columns, level, inplace, errors)\u001B[0m\n\u001B[0;32m   5420\u001B[0m \u001B[38;5;28;01mdef\u001B[39;00m \u001B[38;5;21mdrop\u001B[39m(\n\u001B[0;32m   5421\u001B[0m     \u001B[38;5;28mself\u001B[39m,\n\u001B[0;32m   5422\u001B[0m     labels: IndexLabel \u001B[38;5;241m|\u001B[39m \u001B[38;5;28;01mNone\u001B[39;00m \u001B[38;5;241m=\u001B[39m \u001B[38;5;28;01mNone\u001B[39;00m,\n\u001B[1;32m   (...)\u001B[0m\n\u001B[0;32m   5429\u001B[0m     errors: IgnoreRaise \u001B[38;5;241m=\u001B[39m \u001B[38;5;124m\"\u001B[39m\u001B[38;5;124mraise\u001B[39m\u001B[38;5;124m\"\u001B[39m,\n\u001B[0;32m   5430\u001B[0m ) \u001B[38;5;241m-\u001B[39m\u001B[38;5;241m>\u001B[39m DataFrame \u001B[38;5;241m|\u001B[39m \u001B[38;5;28;01mNone\u001B[39;00m:\n\u001B[0;32m   5431\u001B[0m \u001B[38;5;250m    \u001B[39m\u001B[38;5;124;03m\"\"\"\u001B[39;00m\n\u001B[0;32m   5432\u001B[0m \u001B[38;5;124;03m    Drop specified labels from rows or columns.\u001B[39;00m\n\u001B[0;32m   5433\u001B[0m \n\u001B[1;32m   (...)\u001B[0m\n\u001B[0;32m   5566\u001B[0m \u001B[38;5;124;03m            weight  1.0     0.8\u001B[39;00m\n\u001B[0;32m   5567\u001B[0m \u001B[38;5;124;03m    \"\"\"\u001B[39;00m\n\u001B[1;32m-> 5568\u001B[0m     \u001B[38;5;28;01mreturn\u001B[39;00m \u001B[38;5;28;43msuper\u001B[39;49m\u001B[43m(\u001B[49m\u001B[43m)\u001B[49m\u001B[38;5;241;43m.\u001B[39;49m\u001B[43mdrop\u001B[49m\u001B[43m(\u001B[49m\n\u001B[0;32m   5569\u001B[0m \u001B[43m        \u001B[49m\u001B[43mlabels\u001B[49m\u001B[38;5;241;43m=\u001B[39;49m\u001B[43mlabels\u001B[49m\u001B[43m,\u001B[49m\n\u001B[0;32m   5570\u001B[0m \u001B[43m        \u001B[49m\u001B[43maxis\u001B[49m\u001B[38;5;241;43m=\u001B[39;49m\u001B[43maxis\u001B[49m\u001B[43m,\u001B[49m\n\u001B[0;32m   5571\u001B[0m \u001B[43m        \u001B[49m\u001B[43mindex\u001B[49m\u001B[38;5;241;43m=\u001B[39;49m\u001B[43mindex\u001B[49m\u001B[43m,\u001B[49m\n\u001B[0;32m   5572\u001B[0m \u001B[43m        \u001B[49m\u001B[43mcolumns\u001B[49m\u001B[38;5;241;43m=\u001B[39;49m\u001B[43mcolumns\u001B[49m\u001B[43m,\u001B[49m\n\u001B[0;32m   5573\u001B[0m \u001B[43m        \u001B[49m\u001B[43mlevel\u001B[49m\u001B[38;5;241;43m=\u001B[39;49m\u001B[43mlevel\u001B[49m\u001B[43m,\u001B[49m\n\u001B[0;32m   5574\u001B[0m \u001B[43m        \u001B[49m\u001B[43minplace\u001B[49m\u001B[38;5;241;43m=\u001B[39;49m\u001B[43minplace\u001B[49m\u001B[43m,\u001B[49m\n\u001B[0;32m   5575\u001B[0m \u001B[43m        \u001B[49m\u001B[43merrors\u001B[49m\u001B[38;5;241;43m=\u001B[39;49m\u001B[43merrors\u001B[49m\u001B[43m,\u001B[49m\n\u001B[0;32m   5576\u001B[0m \u001B[43m    \u001B[49m\u001B[43m)\u001B[49m\n",
      "File \u001B[1;32m~\\PycharmProjects\\pythonProject1\\.venv\\Lib\\site-packages\\pandas\\core\\generic.py:4785\u001B[0m, in \u001B[0;36mNDFrame.drop\u001B[1;34m(self, labels, axis, index, columns, level, inplace, errors)\u001B[0m\n\u001B[0;32m   4783\u001B[0m \u001B[38;5;28;01mfor\u001B[39;00m axis, labels \u001B[38;5;129;01min\u001B[39;00m axes\u001B[38;5;241m.\u001B[39mitems():\n\u001B[0;32m   4784\u001B[0m     \u001B[38;5;28;01mif\u001B[39;00m labels \u001B[38;5;129;01mis\u001B[39;00m \u001B[38;5;129;01mnot\u001B[39;00m \u001B[38;5;28;01mNone\u001B[39;00m:\n\u001B[1;32m-> 4785\u001B[0m         obj \u001B[38;5;241m=\u001B[39m \u001B[43mobj\u001B[49m\u001B[38;5;241;43m.\u001B[39;49m\u001B[43m_drop_axis\u001B[49m\u001B[43m(\u001B[49m\u001B[43mlabels\u001B[49m\u001B[43m,\u001B[49m\u001B[43m \u001B[49m\u001B[43maxis\u001B[49m\u001B[43m,\u001B[49m\u001B[43m \u001B[49m\u001B[43mlevel\u001B[49m\u001B[38;5;241;43m=\u001B[39;49m\u001B[43mlevel\u001B[49m\u001B[43m,\u001B[49m\u001B[43m \u001B[49m\u001B[43merrors\u001B[49m\u001B[38;5;241;43m=\u001B[39;49m\u001B[43merrors\u001B[49m\u001B[43m)\u001B[49m\n\u001B[0;32m   4787\u001B[0m \u001B[38;5;28;01mif\u001B[39;00m inplace:\n\u001B[0;32m   4788\u001B[0m     \u001B[38;5;28mself\u001B[39m\u001B[38;5;241m.\u001B[39m_update_inplace(obj)\n",
      "File \u001B[1;32m~\\PycharmProjects\\pythonProject1\\.venv\\Lib\\site-packages\\pandas\\core\\generic.py:4827\u001B[0m, in \u001B[0;36mNDFrame._drop_axis\u001B[1;34m(self, labels, axis, level, errors, only_slice)\u001B[0m\n\u001B[0;32m   4825\u001B[0m         new_axis \u001B[38;5;241m=\u001B[39m axis\u001B[38;5;241m.\u001B[39mdrop(labels, level\u001B[38;5;241m=\u001B[39mlevel, errors\u001B[38;5;241m=\u001B[39merrors)\n\u001B[0;32m   4826\u001B[0m     \u001B[38;5;28;01melse\u001B[39;00m:\n\u001B[1;32m-> 4827\u001B[0m         new_axis \u001B[38;5;241m=\u001B[39m \u001B[43maxis\u001B[49m\u001B[38;5;241;43m.\u001B[39;49m\u001B[43mdrop\u001B[49m\u001B[43m(\u001B[49m\u001B[43mlabels\u001B[49m\u001B[43m,\u001B[49m\u001B[43m \u001B[49m\u001B[43merrors\u001B[49m\u001B[38;5;241;43m=\u001B[39;49m\u001B[43merrors\u001B[49m\u001B[43m)\u001B[49m\n\u001B[0;32m   4828\u001B[0m     indexer \u001B[38;5;241m=\u001B[39m axis\u001B[38;5;241m.\u001B[39mget_indexer(new_axis)\n\u001B[0;32m   4830\u001B[0m \u001B[38;5;66;03m# Case for non-unique axis\u001B[39;00m\n\u001B[0;32m   4831\u001B[0m \u001B[38;5;28;01melse\u001B[39;00m:\n",
      "File \u001B[1;32m~\\PycharmProjects\\pythonProject1\\.venv\\Lib\\site-packages\\pandas\\core\\indexes\\base.py:7070\u001B[0m, in \u001B[0;36mIndex.drop\u001B[1;34m(self, labels, errors)\u001B[0m\n\u001B[0;32m   7068\u001B[0m \u001B[38;5;28;01mif\u001B[39;00m mask\u001B[38;5;241m.\u001B[39many():\n\u001B[0;32m   7069\u001B[0m     \u001B[38;5;28;01mif\u001B[39;00m errors \u001B[38;5;241m!=\u001B[39m \u001B[38;5;124m\"\u001B[39m\u001B[38;5;124mignore\u001B[39m\u001B[38;5;124m\"\u001B[39m:\n\u001B[1;32m-> 7070\u001B[0m         \u001B[38;5;28;01mraise\u001B[39;00m \u001B[38;5;167;01mKeyError\u001B[39;00m(\u001B[38;5;124mf\u001B[39m\u001B[38;5;124m\"\u001B[39m\u001B[38;5;132;01m{\u001B[39;00mlabels[mask]\u001B[38;5;241m.\u001B[39mtolist()\u001B[38;5;132;01m}\u001B[39;00m\u001B[38;5;124m not found in axis\u001B[39m\u001B[38;5;124m\"\u001B[39m)\n\u001B[0;32m   7071\u001B[0m     indexer \u001B[38;5;241m=\u001B[39m indexer[\u001B[38;5;241m~\u001B[39mmask]\n\u001B[0;32m   7072\u001B[0m \u001B[38;5;28;01mreturn\u001B[39;00m \u001B[38;5;28mself\u001B[39m\u001B[38;5;241m.\u001B[39mdelete(indexer)\n",
      "\u001B[1;31mKeyError\u001B[0m: '[99] not found in axis'"
     ]
    }
   ],
   "source": [
    "staff = staff.drop([99,100,101])"
   ]
  },
  {
   "cell_type": "code",
   "outputs": [],
   "source": [],
   "metadata": {
    "collapsed": false
   }
  },
  {
   "cell_type": "markdown",
   "metadata": {},
   "source": [
    "### Kolommen"
   ]
  },
  {
   "cell_type": "markdown",
   "metadata": {},
   "source": [
    "Faxen zijn inmiddels ouderwets: niemand gebruikt zijn/haar faxnummer nog.<br>\n",
    "Verwijder de bijbehorende kolom uit het DataFrame."
   ]
  },
  {
   "cell_type": "code",
   "execution_count": 47,
   "metadata": {
    "ExecuteTime": {
     "end_time": "2024-02-28T18:47:40.511125Z",
     "start_time": "2024-02-28T18:47:40.506358Z"
    }
   },
   "outputs": [],
   "source": [
    "staff = staff.drop('FAX',axis=1)"
   ]
  },
  {
   "cell_type": "code",
   "outputs": [],
   "source": [],
   "metadata": {
    "collapsed": false
   }
  }
 ],
 "metadata": {
  "kernelspec": {
   "display_name": "python-in-deds-P4iSP_yI-py3.11",
   "language": "python",
   "name": "python3"
  },
  "language_info": {
   "codemirror_mode": {
    "name": "ipython",
    "version": 3
   },
   "file_extension": ".py",
   "mimetype": "text/x-python",
   "name": "python",
   "nbconvert_exporter": "python",
   "pygments_lexer": "ipython3",
   "version": "3.11.4"
  }
 },
 "nbformat": 4,
 "nbformat_minor": 2
}
