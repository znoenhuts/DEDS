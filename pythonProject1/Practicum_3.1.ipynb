{
 "cells": [
  {
   "cell_type": "code",
   "execution_count": null,
   "id": "initial_id",
   "metadata": {
    "collapsed": true
   },
   "outputs": [],
   "source": [
    "#Maak met python minimaal drie arrays van minimaal 20 willekeurige en niet gesorteerde integers (meer mag ook).\n",
    "#Zoek op internet naar ten minste drie verschillende sorteeralgoritmes die je wilt gebruiken om de integer arrays mee te sorteren.\n",
    "#Implementer je gekozen sorteeralgoritmes om de integer arrays mee te sorteren. Maak voor elk sorteeralgoritme een nieuwe methode aan die een integer array als parameter heeft en de integer array gesorteerd returnt. "
   ]
  },
  {
   "cell_type": "code",
   "outputs": [
    {
     "name": "stdout",
     "output_type": "stream",
     "text": [
      "[1, 1, 2, 18, 33, 37, 49, 52, 53, 74, 75, 75, 81, 81, 84, 87, 89, 93, 93, 95]\n"
     ]
    }
   ],
   "source": [
    "import random\n",
    "arr = [random.randint(0, 100) for _ in range(20)]\n",
    "def bubble_sort(arr):\n",
    "    n = len(arr)\n",
    "    for i in range(n):\n",
    "        for j in range(0, n-i-1):\n",
    "            if arr[j] > arr[j+1]:\n",
    "                arr[j], arr[j+1] = arr[j+1], arr[j]\n",
    "    return arr\n",
    "print(bubble_sort(arr))"
   ],
   "metadata": {
    "collapsed": false,
    "ExecuteTime": {
     "end_time": "2024-02-28T22:04:58.706669Z",
     "start_time": "2024-02-28T22:04:58.702385Z"
    }
   },
   "id": "8989f2cad4fc029f",
   "execution_count": 6
  },
  {
   "cell_type": "code",
   "outputs": [
    {
     "name": "stdout",
     "output_type": "stream",
     "text": [
      "[9, 9, 13, 15, 15, 17, 18, 19, 20, 23, 25, 26, 26, 29, 30, 34, 34, 36, 40, 40, 41, 41, 43, 43, 44, 46, 49, 50, 54, 55, 55, 56, 58, 60, 63, 64, 64, 65, 67, 68, 68, 70, 74, 78, 79, 80, 83, 85, 95, 97]\n"
     ]
    }
   ],
   "source": [
    "arr = [random.randint(0, 100) for _ in range(50)]\n",
    "def selection_sort(arr):\n",
    "    for i in range(len(arr)):\n",
    "        min_idx = i\n",
    "        for j in range(i+1, len(arr)):\n",
    "            if arr[min_idx] > arr[j]:\n",
    "                min_idx = j\n",
    "        arr[i], arr[min_idx] = arr[min_idx], arr[i]\n",
    "    return arr\n",
    "print(selection_sort(arr))\n"
   ],
   "metadata": {
    "collapsed": false,
    "ExecuteTime": {
     "end_time": "2024-02-28T22:05:30.551709Z",
     "start_time": "2024-02-28T22:05:30.546151Z"
    }
   },
   "id": "d2e55d0f32f21420",
   "execution_count": 9
  },
  {
   "cell_type": "code",
   "outputs": [
    {
     "name": "stdout",
     "output_type": "stream",
     "text": [
      "Originele array: [85, 25, 44, 36, 67, 2]\n",
      "Gesorteerde array: [2, 25, 36, 44, 67, 85]\n"
     ]
    }
   ],
   "source": [
    "arr = [random.randint(0, 100) for _ in range(6)]\n",
    "\n",
    "def randomsort(arr):\n",
    "    while True:\n",
    "        random.shuffle(arr)        \n",
    "        if arr == sorted(arr):\n",
    "            break\n",
    "    return arr\n",
    "\n",
    "print(\"Originele array:\", arr)\n",
    "sorted_array = randomsort(arr)\n",
    "print(\"Gesorteerde array:\", sorted_array)"
   ],
   "metadata": {
    "collapsed": false,
    "ExecuteTime": {
     "end_time": "2024-02-28T22:08:55.764664Z",
     "start_time": "2024-02-28T22:08:55.752316Z"
    }
   },
   "id": "576d2e56527b8b01",
   "execution_count": 22
  },
  {
   "cell_type": "code",
   "outputs": [],
   "source": [],
   "metadata": {
    "collapsed": false
   },
   "id": "254c65ea5566e451"
  }
 ],
 "metadata": {
  "kernelspec": {
   "display_name": "Python 3",
   "language": "python",
   "name": "python3"
  },
  "language_info": {
   "codemirror_mode": {
    "name": "ipython",
    "version": 2
   },
   "file_extension": ".py",
   "mimetype": "text/x-python",
   "name": "python",
   "nbconvert_exporter": "python",
   "pygments_lexer": "ipython2",
   "version": "2.7.6"
  }
 },
 "nbformat": 4,
 "nbformat_minor": 5
}
